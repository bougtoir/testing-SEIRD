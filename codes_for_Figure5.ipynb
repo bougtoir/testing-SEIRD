{
 "cells": [
  {
   "cell_type": "code",
   "execution_count": 21,
   "metadata": {
    "ExecuteTime": {
     "end_time": "2020-10-15T01:40:02.305989Z",
     "start_time": "2020-10-15T01:39:59.973918Z"
    }
   },
   "outputs": [],
   "source": [
    "import numpy as np\n",
    "from scipy.integrate import odeint\n",
    "import matplotlib.pyplot as plt\n",
    "import pandas as pd\n",
    "import math"
   ]
  },
  {
   "cell_type": "markdown",
   "metadata": {},
   "source": [
    "# Parameters set"
   ]
  },
  {
   "cell_type": "code",
   "execution_count": 22,
   "metadata": {
    "ExecuteTime": {
     "end_time": "2020-10-15T01:40:02.321510Z",
     "start_time": "2020-10-15T01:40:02.308989Z"
    }
   },
   "outputs": [],
   "source": [
    "# parameters\n",
    "\n",
    "t_max = 180             # simulation duration\n",
    "dt    = 0.01\n",
    "pop   = 1000000         # total population\n",
    "b     = 1\n",
    "m     = 0.04\n",
    "g     = 0.2 - m\n",
    "dh    = 0.007\n",
    "rh    = 0.093\n",
    "do    = 0.010\n",
    "ro    = 0.090\n",
    "\n",
    "# initial state\n",
    "\n",
    "Sh = 1\n",
    "Eh = 1\n",
    "Ih = 1\n",
    "Rh = 0\n",
    "Dh = 0\n",
    "\n",
    "So = 999900\n",
    "Eo = 0\n",
    "Io = 97\n",
    "Ro = 0\n",
    "Do = 0\n",
    "\n",
    "ini_state = [Sh, Eh, Ih, Rh, Dh, So, Eo, Io, Ro, Do\n",
    "    ]"
   ]
  },
  {
   "cell_type": "markdown",
   "metadata": {},
   "source": [
    "# Defining functions"
   ]
  },
  {
   "cell_type": "code",
   "execution_count": 23,
   "metadata": {
    "ExecuteTime": {
     "end_time": "2020-10-15T01:40:02.352034Z",
     "start_time": "2020-10-15T01:40:02.325033Z"
    }
   },
   "outputs": [],
   "source": [
    "def sigmoid(a):\n",
    "    e = math.e\n",
    "    s = 1 / (1 + e**-a)\n",
    "    return s"
   ]
  },
  {
   "cell_type": "code",
   "execution_count": 24,
   "metadata": {
    "ExecuteTime": {
     "end_time": "2020-10-15T01:40:02.383031Z",
     "start_time": "2020-10-15T01:40:02.356032Z"
    }
   },
   "outputs": [],
   "source": [
    "def tSEIRD(v, t, a, m, b, g, rh, dh, ro, do, n, p, Se, Sp, cap):\n",
    "    beds = np.sum(ini_state) * cap\n",
    "    return [\n",
    "        - b * v[0] * v[2]/ (v[0] + v[1] + v[2]) + m * v[1] - a * v[0], #[0] S_h\n",
    "        b * v[0] * v[2] / (v[0] + v[1] + v[2]) - (m + g) * v[1] + n * (1 - Sp) * v[6] * sigmoid(beds-(v[0]+v[1]+v[2])), #[1] E_h\n",
    "        g * v[1] - (rh + dh) * v[2] + p * Se * v[7] * sigmoid(beds-(v[0]+v[1]+v[2])), #[2] I_h\n",
    "        rh * v[2], #[3] R_h\n",
    "        dh * v[2], #[4] D_h\n",
    "        - b * v[5] * v[7] / (v[5] + v[6] + v[7] + v[8] + v[3]) + m * v[6] + a * v[0], #[5] S_o\n",
    "        b * v[5] * v[7] / (v[5] + v[6] + v[7] + v[8] + v[3]) - (m + g) * v[6] - n * (1 - Sp) * v[6] * sigmoid(beds - (v[0]+v[1]+v[2])) ,#[6] E_o\n",
    "        g * v[6] - (ro + do) * v[7] - p * Se * v[7] * sigmoid(beds - (v[0]+v[1]+v[2])), #[7] I_o\n",
    "        ro * v[7], #[8] R_o\n",
    "        do * v[7] #[9] D_o\n",
    "                ]"
   ]
  },
  {
   "cell_type": "code",
   "execution_count": 25,
   "metadata": {
    "ExecuteTime": {
     "end_time": "2020-10-15T01:40:02.414031Z",
     "start_time": "2020-10-15T01:40:02.386032Z"
    }
   },
   "outputs": [],
   "source": [
    "def tSEIRD_matrix(Se,Sp,n,p,cap=0.1,a=0):\n",
    "\n",
    "    times = np.arange(0, t_max, dt)\n",
    "    args = (a, m, b, g, rh, dh, ro, do, n, p, Se, Sp, cap)\n",
    "\n",
    "    result = odeint(tSEIRD, ini_state, times, args)\n",
    "\n",
    "    df = pd.DataFrame(result)\n",
    "    \n",
    "    df['Sh'] = df[0]# / 1000\n",
    "    df['Eh'] = df[1]# / 1000\n",
    "    df['Ih'] = df[2]# / 1000\n",
    "    df['Rh'] = df[3]# / 1000\n",
    "    df['Dh'] = df[4]# / 1000\n",
    "    \n",
    "    df['So'] = df[5]# / 1000\n",
    "    df['Eo'] = df[6]# / 1000\n",
    "    df['Io'] = df[7]# / 1000\n",
    "    df['Ro'] = df[8]# / 1000\n",
    "    df['Do'] = df[9]# / 1000\n",
    "    \n",
    "    df['Susceptible'] = (df[0] + df[5])# / 1000 #10\n",
    "    df['Exposed']     = (df[1] + df[6])# / 1000 #11\n",
    "    df['Infectious']  = (df[2] + df[7])# / 1000 #12\n",
    "    df['Recovered']   = (df[3] + df[8])# / 1000 #13\n",
    "    df['Dead']        = (df[4] + df[9])# / 1000 #14\n",
    "\n",
    "    df['Hospitalised']= (df[0] + df[1] + df[2])# / 1000 #15\n",
    "    df['Outside']     = (df[3] + df[5] + df[6] + df[7] + df[8])# / 1000 #16\n",
    "    \n",
    "    df['TP']          = (p * Se * df[7])# / 1000 #17\n",
    "    df['FP']          = (n * (1 - Sp) * df[6])# / 1000 #18\n",
    "    df['Positive']    = df['TP'] + df['FP'] #19\n",
    "\n",
    "    df['all']         = (df[0]+df[1]+df[2]+df[3]+df[4]+df[5]+df[6]+df[7]+df[8]+df[9])# / 1000 #20\n",
    "    df['beta_in']     = b / df['Hospitalised'] #21\n",
    "    df['beta_out']    = b / df['Outside'] #22\n",
    "\n",
    "    df_ = df.drop([0, 1, 2, 3, 4, 5, 6, 7, 8, 9], axis=1)\n",
    "    \n",
    "    return df_"
   ]
  },
  {
   "cell_type": "code",
   "execution_count": 26,
   "metadata": {
    "ExecuteTime": {
     "end_time": "2020-10-15T01:40:02.445037Z",
     "start_time": "2020-10-15T01:40:02.417036Z"
    }
   },
   "outputs": [],
   "source": [
    "def tSEIRD_max(Se,Sp,n,p,cap=0.1,a=0):\n",
    "    \n",
    "    times = np.arange(0, t_max, dt)\n",
    "    args = (a, m, b, g, rh, dh, ro, do, n, p, Se, Sp, cap)\n",
    "\n",
    "    result = odeint(tSEIRD, ini_state, times, args)\n",
    "\n",
    "    df = pd.DataFrame(result)\n",
    "    \n",
    "    df['Positive'] = (p * Se * df[7]) + (n * (1 - Sp) * df[6])\n",
    "    df['TP']       = (p * Se * df[7])\n",
    "    df['FP']       = (n * (1 - Sp) * df[6])\n",
    "\n",
    "    df['Hospitalised']= df[0] + df[1] + df[2]\n",
    "    df['Sh'] = df[0]\n",
    "    df['Eh'] = df[1]\n",
    "    df['Ih'] = df[2]\n",
    "\n",
    "    df['Dead']= (df[4] + df[9])\n",
    "    df['Dh'] = df[4]\n",
    "    df['Do'] = df[9]\n",
    "    \n",
    "    df_ = df.drop([0, 1, 2, 3, 4, 5, 6, 7, 8, 9], axis=1)\n",
    "    \n",
    "    return [np.max(df_['Positive']),np.max(df_['TP']),np.max(df_['FP']),\n",
    "            np.max(df_['Hospitalised']),np.max(df_['Sh']),np.max(df_['Eh']),np.max(df_['Ih']),\n",
    "            np.max(df_['Dead']),np.max(df_['Dh']),np.max(df_['Do'])\n",
    "           ]"
   ]
  },
  {
   "cell_type": "markdown",
   "metadata": {},
   "source": [
    "# Heatmaps at prefixed examination behaviour"
   ]
  },
  {
   "cell_type": "code",
   "execution_count": 12,
   "metadata": {
    "ExecuteTime": {
     "end_time": "2020-10-15T01:48:49.784144Z",
     "start_time": "2020-10-15T01:40:05.508838Z"
    }
   },
   "outputs": [
    {
     "name": "stderr",
     "output_type": "stream",
     "text": [
      "<ipython-input-3-612ce78b4953>:3: RuntimeWarning: overflow encountered in double_scalars\n",
      "  s = 1 / (1 + e**-a)\n"
     ]
    }
   ],
   "source": [
    "# generate data\n",
    "\n",
    "u = []\n",
    "for i in np.linspace(0,1,101):\n",
    "    for j in np.linspace(0,1,101):\n",
    "        u.append(tSEIRD_max(i,j,0.7,0.7))\n",
    "        \n",
    "np.savetxt('u.csv',u,delimiter=',')"
   ]
  },
  {
   "cell_type": "code",
   "execution_count": 27,
   "metadata": {
    "ExecuteTime": {
     "end_time": "2020-10-15T01:48:49.954648Z",
     "start_time": "2020-10-15T01:48:49.785146Z"
    }
   },
   "outputs": [],
   "source": [
    "# open and tidy data\n",
    "\n",
    "u = pd.read_csv('u.csv',header=None)\n",
    "\n",
    "pos_visit_fix   = np.array(u)[:, 0].reshape((101,101))\n",
    "hosp_visit_fix  = np.array(u)[:, 3].reshape((101,101))\n",
    "death_visit_fix = np.array(u)[:, 7].reshape((101,101))"
   ]
  },
  {
   "cell_type": "code",
   "execution_count": 28,
   "metadata": {
    "ExecuteTime": {
     "end_time": "2020-10-21T12:24:13.561619Z",
     "start_time": "2020-10-21T12:24:13.238050Z"
    }
   },
   "outputs": [
    {
     "data": {
      "image/png": "[encoded data removed]",
      "text/plain": [
       "<Figure size 432x288 with 2 Axes>"
      ]
     },
     "metadata": {
      "needs_background": "light"
     },
     "output_type": "display_data"
    }
   ],
   "source": [
    "# Fig. 5A\n",
    "\n",
    "plt.figure()\n",
    "plt.title('A')\n",
    "plt.xlabel('Specifiticy (%)')\n",
    "plt.ylabel('Sensitivity (%)')\n",
    "plt.imshow(death_visit_fix,interpolation='nearest',vmin=0,vmax=np.max(death_visit_fix),cmap='coolwarm')\n",
    "plt.colorbar()\n",
    "plt.gca().invert_yaxis()\n",
    "\n",
    "plt.tight_layout()\n",
    "plt.show()"
   ]
  },
  {
   "cell_type": "code",
   "execution_count": 29,
   "metadata": {
    "ExecuteTime": {
     "end_time": "2020-10-21T12:24:40.088481Z",
     "start_time": "2020-10-21T12:24:39.823421Z"
    }
   },
   "outputs": [
    {
     "data": {
      "image/png": "[encoded data removed]",
      "text/plain": [
       "<Figure size 432x288 with 2 Axes>"
      ]
     },
     "metadata": {
      "needs_background": "light"
     },
     "output_type": "display_data"
    }
   ],
   "source": [
    "# Fig. 5B\n",
    "\n",
    "plt.figure()\n",
    "plt.title('B')\n",
    "plt.xlabel('Specificity (%)')\n",
    "plt.ylabel('Sensitivity (%)')\n",
    "plt.imshow(hosp_visit_fix,interpolation='nearest',vmin=0,vmax=np.max(hosp_visit_fix),cmap='coolwarm')\n",
    "plt.colorbar()\n",
    "plt.gca().invert_yaxis()\n",
    "\n",
    "plt.tight_layout()\n",
    "plt.show()"
   ]
  },
  {
   "cell_type": "code",
   "execution_count": 30,
   "metadata": {
    "ExecuteTime": {
     "end_time": "2020-10-21T12:25:05.084172Z",
     "start_time": "2020-10-21T12:25:04.858173Z"
    }
   },
   "outputs": [
    {
     "data": {
      "image/png": "[encoded data removed]",
      "text/plain": [
       "<Figure size 432x288 with 2 Axes>"
      ]
     },
     "metadata": {
      "needs_background": "light"
     },
     "output_type": "display_data"
    }
   ],
   "source": [
    "# Fig. 5C\n",
    "\n",
    "plt.figure()\n",
    "plt.title('C')\n",
    "plt.xlabel('Specificity (%)')\n",
    "plt.ylabel('Sensitivity (%)')\n",
    "plt.imshow(pos_visit_fix,interpolation='nearest',vmin=0,vmax=np.max(pos_visit_fix),cmap='coolwarm')\n",
    "plt.colorbar()\n",
    "plt.gca().invert_yaxis()\n",
    "\n",
    "plt.tight_layout()\n",
    "plt.show()"
   ]
  },
  {
   "cell_type": "code",
   "execution_count": null,
   "metadata": {},
   "outputs": [],
   "source": []
  }
 ],
 "metadata": {
  "kernelspec": {
   "display_name": "Python 3",
   "language": "python",
   "name": "python3"
  },
  "language_info": {
   "codemirror_mode": {
    "name": "ipython",
    "version": 3
   },
   "file_extension": ".py",
   "mimetype": "text/x-python",
   "name": "python",
   "nbconvert_exporter": "python",
   "pygments_lexer": "ipython3",
   "version": "3.8.5"
  }
 },
 "nbformat": 4,
 "nbformat_minor": 4
}
