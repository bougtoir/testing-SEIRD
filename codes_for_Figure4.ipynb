{
 "cells": [
  {
   "cell_type": "code",
   "execution_count": 2,
   "metadata": {
    "ExecuteTime": {
     "end_time": "2020-10-20T03:41:53.173192Z",
     "start_time": "2020-10-20T03:41:49.900469Z"
    }
   },
   "outputs": [],
   "source": [
    "import numpy as np\n",
    "from scipy.integrate import odeint\n",
    "import matplotlib.pyplot as plt\n",
    "import pandas as pd\n",
    "import math"
   ]
  },
  {
   "cell_type": "code",
   "execution_count": 3,
   "metadata": {
    "ExecuteTime": {
     "end_time": "2020-10-20T03:44:08.540386Z",
     "start_time": "2020-10-20T03:44:08.534426Z"
    }
   },
   "outputs": [],
   "source": [
    "import matplotlib.colors as mcolors\n",
    "\n",
    "c1 = 'tab:blue'\n",
    "c2 = 'tab:orange'\n",
    "c3 = 'tab:green'\n",
    "c4 = 'tab:red'\n",
    "c5 = 'tab:purple'\n",
    "c6 = 'tab:brown'\n",
    "c7 = 'tab:pink'\n",
    "c8 = 'tab:gray'\n",
    "c9 = 'tab:olive'\n",
    "c10= 'tab:cyan'"
   ]
  },
  {
   "cell_type": "markdown",
   "metadata": {},
   "source": [
    "# Parameters set"
   ]
  },
  {
   "cell_type": "code",
   "execution_count": 4,
   "metadata": {
    "ExecuteTime": {
     "end_time": "2020-10-20T03:41:53.188732Z",
     "start_time": "2020-10-20T03:41:53.176193Z"
    }
   },
   "outputs": [],
   "source": [
    "# parameters\n",
    "\n",
    "t_max = 180             # simulation duration\n",
    "dt    = 0.001\n",
    "pop   = 1000000         # total population\n",
    "b     = 1\n",
    "m     = 0.04\n",
    "g     = 0.2 - m         # E -> I 1/incubtation\n",
    "dh    = 0.007\n",
    "rh    = 0.093\n",
    "do    = 0.010\n",
    "ro    = 0.090\n",
    "\n",
    "# initial state\n",
    "\n",
    "Sh = 1\n",
    "Eh = 1\n",
    "Ih = 1\n",
    "Rh = 0\n",
    "Dh = 0\n",
    "\n",
    "So = 999900\n",
    "Eo = 0\n",
    "Io = 97\n",
    "Ro = 0\n",
    "Do = 0\n",
    "\n",
    "ini_state = [Sh, Eh, Ih, Rh, Dh, So, Eo, Io, Ro, Do\n",
    "    ]"
   ]
  },
  {
   "cell_type": "markdown",
   "metadata": {},
   "source": [
    "# Defining functions"
   ]
  },
  {
   "cell_type": "code",
   "execution_count": 5,
   "metadata": {
    "ExecuteTime": {
     "end_time": "2020-10-20T03:41:53.219247Z",
     "start_time": "2020-10-20T03:41:53.192245Z"
    }
   },
   "outputs": [],
   "source": [
    "def sigmoid(a):\n",
    "    e = math.e\n",
    "    s = 1 / (1 + e**-a)\n",
    "    return s"
   ]
  },
  {
   "cell_type": "code",
   "execution_count": 6,
   "metadata": {
    "ExecuteTime": {
     "end_time": "2020-10-20T03:41:53.251245Z",
     "start_time": "2020-10-20T03:41:53.221246Z"
    }
   },
   "outputs": [],
   "source": [
    "def tSEIRD(v, t, a, m, b, g, rh, dh, ro, do, n, p, Se, Sp, cap):\n",
    "    beds = np.sum(ini_state) * cap\n",
    "    return [\n",
    "        - b * v[0] * v[2]/ (v[0] + v[1] + v[2]) + m * v[1] - a * v[0], #[0] S_h\n",
    "        b * v[0] * v[2] / (v[0] + v[1] + v[2]) - (m + g) * v[1] + n * (1 - Sp) * v[6] * sigmoid(beds-(v[0]+v[1]+v[2])), #[1] E_h\n",
    "        g * v[1] - (rh + dh) * v[2] + p * Se * v[7] * sigmoid(beds-(v[0]+v[1]+v[2])), #[2] I_h\n",
    "        rh * v[2], #[3] R_h\n",
    "        dh * v[2], #[4] D_h\n",
    "        - b * v[5] * v[7] / (v[5] + v[6] + v[7] + v[8] + v[3]) + m * v[6] + a * v[0], #[5] S_o\n",
    "        b * v[5] * v[7] / (v[5] + v[6] + v[7] + v[8] + v[3]) - (m + g) * v[6] - n * (1 - Sp) * v[6] * sigmoid(beds - (v[0]+v[1]+v[2])) ,#[6] E_o\n",
    "        g * v[6] - (ro + do) * v[7] - p * Se * v[7] * sigmoid(beds - (v[0]+v[1]+v[2])), #[7] I_o\n",
    "        ro * v[7], #[8] R_o\n",
    "        do * v[7] #[9] D_o\n",
    "                ]"
   ]
  },
  {
   "cell_type": "code",
   "execution_count": 7,
   "metadata": {
    "ExecuteTime": {
     "end_time": "2020-10-20T03:41:53.281250Z",
     "start_time": "2020-10-20T03:41:53.253247Z"
    }
   },
   "outputs": [],
   "source": [
    "def tSEIRD_matrix(Se,Sp,n,p,cap=0.1,a=0):\n",
    "\n",
    "    times = np.arange(0, t_max, dt)\n",
    "    args = (a, m, b, g, rh, dh, ro, do, n, p, Se, Sp, cap)\n",
    "\n",
    "    result = odeint(tSEIRD, ini_state, times, args)\n",
    "\n",
    "    df = pd.DataFrame(result)\n",
    "    \n",
    "    df['Sh'] = df[0]# / 1000\n",
    "    df['Eh'] = df[1]# / 1000\n",
    "    df['Ih'] = df[2]# / 1000\n",
    "    df['Rh'] = df[3]# / 1000\n",
    "    df['Dh'] = df[4]# / 1000\n",
    "    \n",
    "    df['So'] = df[5]# / 1000\n",
    "    df['Eo'] = df[6]# / 1000\n",
    "    df['Io'] = df[7]# / 1000\n",
    "    df['Ro'] = df[8]# / 1000\n",
    "    df['Do'] = df[9]# / 1000\n",
    "    \n",
    "    df['Susceptible'] = (df[0] + df[5])# / 1000 #10\n",
    "    df['Exposed']     = (df[1] + df[6])# / 1000 #11\n",
    "    df['Infectious']  = (df[2] + df[7])# / 1000 #12\n",
    "    df['Recovered']   = (df[3] + df[8])# / 1000 #13\n",
    "    df['Dead']        = (df[4] + df[9])# / 1000 #14\n",
    "\n",
    "    df['Hospitalised']= (df[0] + df[1] + df[2])# / 1000 #15\n",
    "    df['Outside']     = (df[3] + df[5] + df[6] + df[7] + df[8])# / 1000 #16\n",
    "    \n",
    "    df['TP']          = (p * Se * df[7])# / 1000 #17\n",
    "    df['FP']          = (n * (1 - Sp) * df[6])# / 1000 #18\n",
    "    df['Positive']    = df['TP'] + df['FP'] #19\n",
    "\n",
    "    df['all']         = (df[0]+df[1]+df[2]+df[3]+df[4]+df[5]+df[6]+df[7]+df[8]+df[9])# / 1000 #20\n",
    "    df['beta_in']     = b / df['Hospitalised'] #21\n",
    "    df['beta_out']    = b / df['Outside'] #22\n",
    "\n",
    "    df_ = df.drop([0, 1, 2, 3, 4, 5, 6, 7, 8, 9], axis=1)\n",
    "    \n",
    "    return df_"
   ]
  },
  {
   "cell_type": "code",
   "execution_count": 8,
   "metadata": {
    "ExecuteTime": {
     "end_time": "2020-10-20T03:41:53.313250Z",
     "start_time": "2020-10-20T03:41:53.283247Z"
    }
   },
   "outputs": [],
   "source": [
    "def tSEIRD_max(Se,Sp,n,p,cap=0.1,a=0):\n",
    "    \n",
    "    times = np.arange(0, t_max, dt)\n",
    "    args = (a, m, b, g, rh, dh, ro, do, n, p, Se, Sp, cap)\n",
    "\n",
    "    result = odeint(tSEIRD, ini_state, times, args)\n",
    "\n",
    "    df = pd.DataFrame(result)\n",
    "    \n",
    "    df['Positive'] = (p * Se * df[7]) + (n * (1 - Sp) * df[6])\n",
    "    df['TP']       = (p * Se * df[7])\n",
    "    df['FP']       = (n * (1 - Sp) * df[6])\n",
    "\n",
    "    df['Hospitalised']= df[0] + df[1] + df[2]\n",
    "    df['Sh'] = df[0]\n",
    "    df['Eh'] = df[1]\n",
    "    df['Ih'] = df[2]\n",
    "\n",
    "    df['Dead']= (df[4] + df[9])\n",
    "    df['Dh'] = df[4]\n",
    "    df['Do'] = df[9]\n",
    "    \n",
    "    df_ = df.drop([0, 1, 2, 3, 4, 5, 6, 7, 8, 9], axis=1)\n",
    "    \n",
    "    return [np.max(df_['Positive']),np.max(df_['TP']),np.max(df_['FP']),\n",
    "            np.max(df_['Hospitalised']),np.max(df_['Sh']),np.max(df_['Eh']),np.max(df_['Ih']),\n",
    "            np.max(df_['Dead']),np.max(df_['Dh']),np.max(df_['Do'])\n",
    "           ]"
   ]
  },
  {
   "cell_type": "markdown",
   "metadata": {},
   "source": [
    "# Heatmaps at prefixed testing characteristics"
   ]
  },
  {
   "cell_type": "code",
   "execution_count": 23,
   "metadata": {},
   "outputs": [
    {
     "name": "stderr",
     "output_type": "stream",
     "text": [
      "<ipython-input-5-612ce78b4953>:3: RuntimeWarning: overflow encountered in double_scalars\n",
      "  s = 1 / (1 + e**-a)\n"
     ]
    }
   ],
   "source": [
    "# generate data\n",
    "\n",
    "v = []\n",
    "\n",
    "for i in np.linspace(0,4,101):\n",
    "    for j in np.linspace(0,0.8,101):\n",
    "        v.append(tSEIRD_max(0.7,0.7,i,j))\n",
    "\n",
    "np.savetxt('v.csv',v,delimiter=',')"
   ]
  },
  {
   "cell_type": "code",
   "execution_count": 24,
   "metadata": {
    "ExecuteTime": {
     "end_time": "2020-10-20T03:41:53.537256Z",
     "start_time": "2020-10-20T03:41:53.459245Z"
    }
   },
   "outputs": [],
   "source": [
    "# open and tidy data\n",
    "\n",
    "v = pd.read_csv('v.csv',header=None)\n",
    "\n",
    "pos_test_fix   = np.array(v)[:, 0].reshape((101,101))\n",
    "hosp_test_fix  = np.array(v)[:, 3].reshape((101,101))\n",
    "death_test_fix = np.array(v)[:, 7].reshape((101,101))"
   ]
  },
  {
   "cell_type": "code",
   "execution_count": 25,
   "metadata": {
    "ExecuteTime": {
     "end_time": "2020-10-21T10:22:09.594611Z",
     "start_time": "2020-10-21T10:22:09.404882Z"
    }
   },
   "outputs": [
    {
     "data": {
      "image/png": "[encoded data removed]",
      "text/plain": [
       "<Figure size 432x288 with 2 Axes>"
      ]
     },
     "metadata": {
      "needs_background": "light"
     },
     "output_type": "display_data"
    }
   ],
   "source": [
    "# upper panel of Fig. 4A\n",
    "\n",
    "plt.figure()\n",
    "plt.title('A')\n",
    "plt.xlabel('Mass testing (1/day)')\n",
    "plt.ylabel('Follow-up testing (1/day)')\n",
    "plt.imshow(death_test_fix,interpolation='nearest',vmin=0,vmax=np.max(death_test_fix),cmap='coolwarm')\n",
    "plt.colorbar(ticks=[0, 20000, 40000, 60000, 80000])\n",
    "plt.gca().invert_yaxis()\n",
    "\n",
    "plt.yticks([0, 20, 40, 60, 80], [0, 100, 200, 300, 400])\n",
    "\n",
    "plt.tight_layout()\n",
    "plt.show()"
   ]
  },
  {
   "cell_type": "code",
   "execution_count": 26,
   "metadata": {
    "ExecuteTime": {
     "end_time": "2020-10-20T03:41:59.264900Z",
     "start_time": "2020-10-20T03:41:59.037872Z"
    }
   },
   "outputs": [
    {
     "data": {
      "image/png": "[encoded data removed]",
      "text/plain": [
       "<Figure size 432x288 with 2 Axes>"
      ]
     },
     "metadata": {
      "needs_background": "light"
     },
     "output_type": "display_data"
    }
   ],
   "source": [
    "# upper panel of Fig. 4B\n",
    "\n",
    "plt.figure()\n",
    "plt.title('B')\n",
    "plt.xlabel('Mass testing (1/day)')\n",
    "plt.ylabel('Follow-up testing (1/day)')\n",
    "plt.imshow(hosp_test_fix,interpolation='nearest',vmin=0,vmax=np.max(hosp_test_fix),cmap='coolwarm')\n",
    "plt.colorbar()\n",
    "plt.gca().invert_yaxis()\n",
    "\n",
    "plt.yticks([0, 20, 40, 60, 80], [0, 100, 200, 300, 400])\n",
    "\n",
    "plt.tight_layout()\n",
    "plt.show()"
   ]
  },
  {
   "cell_type": "code",
   "execution_count": 27,
   "metadata": {
    "ExecuteTime": {
     "end_time": "2020-10-21T10:22:00.162608Z",
     "start_time": "2020-10-21T10:21:59.966549Z"
    }
   },
   "outputs": [
    {
     "data": {
      "image/png": "[encoded data removed]",
      "text/plain": [
       "<Figure size 432x288 with 2 Axes>"
      ]
     },
     "metadata": {
      "needs_background": "light"
     },
     "output_type": "display_data"
    }
   ],
   "source": [
    "# upper panel of Fig. 4C\n",
    "\n",
    "plt.figure()\n",
    "plt.title('C')\n",
    "plt.xlabel('Mass testing (1/day)')\n",
    "plt.ylabel('Follow-up testing (1/day)')\n",
    "plt.imshow(pos_test_fix,interpolation='nearest',vmin=0,vmax=np.max(pos_test_fix),cmap='coolwarm')\n",
    "plt.colorbar()\n",
    "plt.gca().invert_yaxis()\n",
    "\n",
    "plt.yticks([0,20, 40, 60, 80], [0,100, 200, 300, 400])\n",
    "\n",
    "plt.tight_layout()\n",
    "plt.show()"
   ]
  },
  {
   "cell_type": "markdown",
   "metadata": {},
   "source": [
    "# Total resource dependencies of variables"
   ]
  },
  {
   "cell_type": "code",
   "execution_count": 13,
   "metadata": {
    "ExecuteTime": {
     "end_time": "2020-10-21T09:09:48.509978Z",
     "start_time": "2020-10-21T09:09:32.640863Z"
    }
   },
   "outputs": [
    {
     "name": "stderr",
     "output_type": "stream",
     "text": [
      "<ipython-input-5-612ce78b4953>:3: RuntimeWarning: overflow encountered in double_scalars\n",
      "  s = 1 / (1 + e**-a)\n"
     ]
    }
   ],
   "source": [
    "s1 = []\n",
    "\n",
    "# line from follow-up testing of 1 to mass testing 0f 1\n",
    "\n",
    "for i in np.linspace(0,1,101):\n",
    "    s1.append(tSEIRD_max(0.7,0.7,(1-i),i))\n",
    "    \n",
    "np.savetxt('s1.csv',s1,delimiter=',')"
   ]
  },
  {
   "cell_type": "code",
   "execution_count": 14,
   "metadata": {
    "ExecuteTime": {
     "end_time": "2020-10-21T09:09:48.540635Z",
     "start_time": "2020-10-21T09:09:48.511639Z"
    }
   },
   "outputs": [],
   "source": [
    "df1 = pd.DataFrame({\n",
    "    'follow_up': 1-(np.linspace(0,1,101)),\n",
    "    'take_up': np.linspace(0,1,101),\n",
    "    'pos1': np.array(s1)[:,0],\n",
    "    'hos1': np.array(s1)[:,3],\n",
    "    'des1': np.array(s1)[:,7],\n",
    "})"
   ]
  },
  {
   "cell_type": "code",
   "execution_count": 15,
   "metadata": {
    "ExecuteTime": {
     "end_time": "2020-10-21T09:10:54.040353Z",
     "start_time": "2020-10-21T09:10:38.287074Z"
    }
   },
   "outputs": [],
   "source": [
    "s2 = []\n",
    "\n",
    "# line from follow-up testing of 3 to mass testing of 0.6\n",
    "\n",
    "for i in np.linspace(0,0.6,101):\n",
    "    s2.append(tSEIRD_max(0.7,0.7,(3-5*i),i))\n",
    "    \n",
    "np.savetxt('s2.csv',s2,delimiter=',')"
   ]
  },
  {
   "cell_type": "code",
   "execution_count": 16,
   "metadata": {
    "ExecuteTime": {
     "end_time": "2020-10-21T09:10:56.454768Z",
     "start_time": "2020-10-21T09:10:56.430230Z"
    }
   },
   "outputs": [],
   "source": [
    "df2 = pd.DataFrame({\n",
    "    'follow_up': 3-5*(np.linspace(0,0.6,101)),\n",
    "    'take_up': np.linspace(0,0.6,101),\n",
    "    'pos2': np.array(s2)[:,0],\n",
    "    'hos2': np.array(s2)[:,3],\n",
    "    'des2': np.array(s2)[:,7],\n",
    "})"
   ]
  },
  {
   "cell_type": "code",
   "execution_count": 17,
   "metadata": {
    "ExecuteTime": {
     "end_time": "2020-10-21T09:11:54.488372Z",
     "start_time": "2020-10-21T09:11:38.566334Z"
    }
   },
   "outputs": [
    {
     "name": "stderr",
     "output_type": "stream",
     "text": [
      "<ipython-input-5-612ce78b4953>:3: RuntimeWarning: overflow encountered in double_scalars\n",
      "  s = 1 / (1 + e**-a)\n"
     ]
    }
   ],
   "source": [
    "s3 = []\n",
    "\n",
    "# line from follow-up testing of 5 to mass testing of 0.5\n",
    "\n",
    "for i in np.linspace(0,0.5,101):\n",
    "    s3.append(tSEIRD_max(0.7,0.7,(5-10*i),i))\n",
    "    \n",
    "np.savetxt('s3.csv',s3,delimiter=',')"
   ]
  },
  {
   "cell_type": "code",
   "execution_count": 18,
   "metadata": {
    "ExecuteTime": {
     "end_time": "2020-10-21T09:11:54.519334Z",
     "start_time": "2020-10-21T09:11:54.490333Z"
    }
   },
   "outputs": [],
   "source": [
    "df3 = pd.DataFrame({\n",
    "    'follow_up': 5-10*(np.linspace(0,0.5,101)),\n",
    "    'take_up': np.linspace(0,0.5,101),\n",
    "    'pos3': np.array(s3)[:,0],\n",
    "    'hos3': np.array(s3)[:,3],\n",
    "    'des3': np.array(s3)[:,7],\n",
    "})"
   ]
  },
  {
   "cell_type": "markdown",
   "metadata": {},
   "source": [
    "# Total resource on the three variables"
   ]
  },
  {
   "cell_type": "code",
   "execution_count": 30,
   "metadata": {
    "ExecuteTime": {
     "end_time": "2020-10-21T09:11:54.875333Z",
     "start_time": "2020-10-21T09:11:54.691372Z"
    }
   },
   "outputs": [
    {
     "data": {
      "image/png": "[encoded data removed]",
      "text/plain": [
       "<Figure size 432x288 with 1 Axes>"
      ]
     },
     "metadata": {
      "needs_background": "light"
     },
     "output_type": "display_data"
    }
   ],
   "source": [
    "# lower panel of Fig. 4A\n",
    "\n",
    "x = np.linspace(0,100,101)\n",
    "y1 = df1['pos1']\n",
    "y2 = df2['pos2']\n",
    "y3 = df3['pos3']\n",
    "\n",
    "plt.title('')\n",
    "plt.xlabel('Resource fraction assigned to mass testing (%)')\n",
    "plt.ylabel('Maximum daily positive tests (person)')\n",
    "\n",
    "plt.plot(x, y1, label='1', color =c1)\n",
    "plt.plot(x, y2, label='2', color =c2)\n",
    "plt.plot(x, y3, label='3', color =c3)\n",
    "\n",
    "plt.gca().spines['right'].set_visible(False)\n",
    "plt.gca().spines['top'].set_visible(False)\n",
    "plt.gca().yaxis.set_ticks_position('left')\n",
    "plt.gca().xaxis.set_ticks_position('bottom')\n",
    "\n",
    "plt.show()"
   ]
  },
  {
   "cell_type": "code",
   "execution_count": 29,
   "metadata": {
    "ExecuteTime": {
     "end_time": "2020-10-21T09:11:55.045329Z",
     "start_time": "2020-10-21T09:11:54.877340Z"
    }
   },
   "outputs": [
    {
     "data": {
      "image/png": "[encoded data removed]",
      "text/plain": [
       "<Figure size 432x288 with 1 Axes>"
      ]
     },
     "metadata": {
      "needs_background": "light"
     },
     "output_type": "display_data"
    }
   ],
   "source": [
    "# lower panel of Fig. 4B\n",
    "\n",
    "x = np.linspace(0,100,101)\n",
    "y1 = df1['hos1']\n",
    "y2 = df2['hos2']\n",
    "y3 = df3['hos3']\n",
    "\n",
    "plt.title('')\n",
    "plt.xlabel('Resource fraction assigned to mass testing (%)')\n",
    "plt.ylabel('Maximum hospitalisations (person)')\n",
    "\n",
    "plt.plot(x, y1, label='1', color =c1)\n",
    "plt.plot(x, y2, label='2', color =c2)\n",
    "plt.plot(x, y3, label='3', color =c3)\n",
    "\n",
    "plt.gca().spines['right'].set_visible(False)\n",
    "plt.gca().spines['top'].set_visible(False)\n",
    "plt.gca().yaxis.set_ticks_position('left')\n",
    "plt.gca().xaxis.set_ticks_position('bottom')\n",
    "\n",
    "plt.show()"
   ]
  },
  {
   "cell_type": "code",
   "execution_count": 28,
   "metadata": {
    "ExecuteTime": {
     "end_time": "2020-10-21T09:11:55.200367Z",
     "start_time": "2020-10-21T09:11:55.048337Z"
    },
    "scrolled": true
   },
   "outputs": [
    {
     "data": {
      "image/png": "[encoded data removed]",
      "text/plain": [
       "<Figure size 432x288 with 1 Axes>"
      ]
     },
     "metadata": {
      "needs_background": "light"
     },
     "output_type": "display_data"
    }
   ],
   "source": [
    "# lower panel of Fig. 4C\n",
    "\n",
    "x = np.linspace(0,100,101)\n",
    "y1 = df1['des1']\n",
    "y2 = df2['des2']\n",
    "y3 = df3['des3']\n",
    "\n",
    "# プロット\n",
    "plt.title('')\n",
    "plt.xlabel('Resource fraction assigned to mass testing (%)')\n",
    "plt.ylabel('Cumulative deaths (person)')\n",
    "\n",
    "plt.plot(x, y1, label='1', color =c1)\n",
    "plt.plot(x, y2, label='2', color =c2)\n",
    "plt.plot(x, y3, label='3', color =c3)\n",
    "\n",
    "plt.gca().spines['right'].set_visible(False)\n",
    "plt.gca().spines['top'].set_visible(False)\n",
    "plt.gca().yaxis.set_ticks_position('left')\n",
    "plt.gca().xaxis.set_ticks_position('bottom')\n",
    "\n",
    "plt.show()"
   ]
  },
  {
   "cell_type": "code",
   "execution_count": null,
   "metadata": {},
   "outputs": [],
   "source": []
  }
 ],
 "metadata": {
  "kernelspec": {
   "display_name": "Python 3",
   "language": "python",
   "name": "python3"
  },
  "language_info": {
   "codemirror_mode": {
    "name": "ipython",
    "version": 3
   },
   "file_extension": ".py",
   "mimetype": "text/x-python",
   "name": "python",
   "nbconvert_exporter": "python",
   "pygments_lexer": "ipython3",
   "version": "3.8.5"
  }
 },
 "nbformat": 4,
 "nbformat_minor": 4
}
