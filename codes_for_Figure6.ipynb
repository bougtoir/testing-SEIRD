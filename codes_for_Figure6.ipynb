{
 "cells": [
  {
   "cell_type": "code",
   "execution_count": 41,
   "metadata": {
    "ExecuteTime": {
     "end_time": "2020-10-27T06:45:02.762206Z",
     "start_time": "2020-10-27T06:45:02.746196Z"
    }
   },
   "outputs": [],
   "source": [
    "import pandas as pd\n",
    "import numpy as np\n",
    "import matplotlib.pyplot as plt\n",
    "import math\n",
    "from scipy.integrate import odeint\n",
    "from statsmodels.stats.outliers_influence import variance_inflation_factor\n",
    "from sklearn.linear_model import LinearRegression,Ridge,Lasso,ElasticNet"
   ]
  },
  {
   "cell_type": "code",
   "execution_count": 42,
   "metadata": {},
   "outputs": [],
   "source": [
    "import matplotlib.colors as mcolors\n",
    "\n",
    "c0 = 'tab:orange' #predicted\n",
    "c1 = 'tab:green'  #simulated"
   ]
  },
  {
   "cell_type": "markdown",
   "metadata": {},
   "source": [
    "# Parameters set"
   ]
  },
  {
   "cell_type": "code",
   "execution_count": 43,
   "metadata": {
    "ExecuteTime": {
     "end_time": "2020-10-27T06:43:52.856299Z",
     "start_time": "2020-10-27T06:43:52.842647Z"
    }
   },
   "outputs": [],
   "source": [
    "# parameters\n",
    "\n",
    "t_max = 180             # シミュレーション日数\n",
    "dt    = 0.001\n",
    "pop   = 1000000         # シミュレーション人口（100万人）\n",
    "b     = 1               # ルーズなb\n",
    "m     = 0.04            # E→S\n",
    "g     = 0.2 - m         # E -> I 1/incubtation\n",
    "dh    = 0.007           # mortality in confirmed case（7%）/infectious period（10日）\n",
    "rh    = 0.093           # d_i + r_i = Constant(1/infectious period（10日）) \n",
    "do    = 0.010           # mortality in unconfirmed case（4%）/infectious period（10日）\n",
    "ro    = 0.090           # d_o + r_o = Constant(1/infectious period（10日）)\n",
    "\n",
    "#初期状態\n",
    "\n",
    "Sh = 1\n",
    "Eh = 1\n",
    "Ih = 1\n",
    "Rh = 0\n",
    "Dh = 0\n",
    "\n",
    "So = 999900\n",
    "Eo = 0\n",
    "Io = 97\n",
    "Ro = 0\n",
    "Do = 0\n",
    "\n",
    "ini_state = [Sh, Eh, Ih, Rh, Dh, So, Eo, Io, Ro, Do\n",
    "    ]"
   ]
  },
  {
   "cell_type": "markdown",
   "metadata": {},
   "source": [
    "# Defining functions"
   ]
  },
  {
   "cell_type": "code",
   "execution_count": 44,
   "metadata": {
    "ExecuteTime": {
     "end_time": "2020-10-27T06:43:52.918681Z",
     "start_time": "2020-10-27T06:43:52.858161Z"
    }
   },
   "outputs": [],
   "source": [
    "def sigmoid(a):\n",
    "    e = math.e\n",
    "    s = 1 / (1 + e**-a)\n",
    "    return s"
   ]
  },
  {
   "cell_type": "code",
   "execution_count": 45,
   "metadata": {
    "ExecuteTime": {
     "end_time": "2020-10-27T06:43:52.966682Z",
     "start_time": "2020-10-27T06:43:52.920683Z"
    }
   },
   "outputs": [],
   "source": [
    "def tSEIRD(v, t, a, m, b, g, rh, dh, ro, do, n, p, Se, Sp, cap):\n",
    "    beds = np.sum(ini_state) * cap\n",
    "    return [\n",
    "        - b * v[0] * v[2]/ (v[0] + v[1] + v[2]) + m * v[1] - a * v[0], #[0] S_h\n",
    "        b * v[0] * v[2] / (v[0] + v[1] + v[2]) - (m + g) * v[1] + n * (1 - Sp) * v[6] * sigmoid(beds-(v[0]+v[1]+v[2])), #[1] E_h\n",
    "        g * v[1] - (rh + dh) * v[2] + p * Se * v[7] * sigmoid(beds-(v[0]+v[1]+v[2])), #[2] I_h\n",
    "        rh * v[2], #[3] R_h\n",
    "        dh * v[2], #[4] D_h\n",
    "        - b * v[5] * v[7] / (v[5] + v[6] + v[7] + v[8] + v[3]) + m * v[6] + a * v[0], #[5] S_o\n",
    "        b * v[5] * v[7] / (v[5] + v[6] + v[7] + v[8] + v[3]) - (m + g) * v[6] - n * (1 - Sp) * v[6] * sigmoid(beds - (v[0]+v[1]+v[2])) ,#[6] E_o\n",
    "        g * v[6] - (ro + do) * v[7] - p * Se * v[7] * sigmoid(beds - (v[0]+v[1]+v[2])), #[7] I_o\n",
    "        ro * v[7], #[8] R_o\n",
    "        do * v[7] #[9] D_o\n",
    "                ]"
   ]
  },
  {
   "cell_type": "code",
   "execution_count": 46,
   "metadata": {
    "ExecuteTime": {
     "end_time": "2020-10-27T06:43:53.030723Z",
     "start_time": "2020-10-27T06:43:52.968684Z"
    }
   },
   "outputs": [],
   "source": [
    "def tSEIRD_matrix(n,p,Se=0.7,Sp=0.7,cap=0.1,a=0):\n",
    "\n",
    "    times = np.arange(0, t_max, dt)\n",
    "    args = (a, m, b, g, rh, dh, ro, do, n, p, Se, Sp, cap)\n",
    "\n",
    "    result = odeint(tSEIRD, ini_state, times, args)\n",
    "\n",
    "    df = pd.DataFrame(result)\n",
    "    \n",
    "    df['Sh'] = df[0]# / 1000\n",
    "    df['Eh'] = df[1]# / 1000\n",
    "    df['Ih'] = df[2]# / 1000\n",
    "    df['Rh'] = df[3]# / 1000\n",
    "    df['Dh'] = df[4]# / 1000\n",
    "    \n",
    "    df['So'] = df[5]# / 1000\n",
    "    df['Eo'] = df[6]# / 1000\n",
    "    df['Io'] = df[7]# / 1000\n",
    "    df['Ro'] = df[8]# / 1000\n",
    "    df['Do'] = df[9]# / 1000\n",
    "    \n",
    "    df['Susceptible'] = (df[0] + df[5])# / 1000 #10\n",
    "    df['Exposed']     = (df[1] + df[6])# / 1000 #11\n",
    "    df['Infectious']  = (df[2] + df[7])# / 1000 #12\n",
    "    df['Recovered']   = (df[3] + df[8])# / 1000 #13\n",
    "    df['Dead']        = (df[4] + df[9])# / 1000 #14\n",
    "\n",
    "    df['Hospitalised']= (df[0] + df[1] + df[2])# / 1000 #15\n",
    "    df['Outside']     = (df[3] + df[5] + df[6] + df[7] + df[8])# / 1000 #16\n",
    "    \n",
    "    df['TP']          = (p * Se * df[7])# / 1000 #17\n",
    "    df['FP']          = (n * (1 - Sp) * df[6])# / 1000 #18\n",
    "    df['Positive']    = df['TP'] + df['FP'] #19\n",
    "\n",
    "    df['all']         = (df[0]+df[1]+df[2]+df[3]+df[4]+df[5]+df[6]+df[7]+df[8]+df[9])# / 1000 #20\n",
    "    df['beta_in']     = b / df['Hospitalised'] #21\n",
    "    df['beta_out']    = b / df['Outside'] #22\n",
    "    \n",
    "    df['delta_Dh']    = dh * df[2]\n",
    "    df['delta_Do']    = do * df[7]\n",
    "\n",
    "    df_ = df.drop([0, 1, 2, 3, 4, 5, 6, 7, 8, 9], axis=1)\n",
    "    \n",
    "    return df_[['Infectious','TP','FP']]"
   ]
  },
  {
   "cell_type": "code",
   "execution_count": 47,
   "metadata": {
    "ExecuteTime": {
     "end_time": "2020-10-27T07:27:41.773970Z",
     "start_time": "2020-10-27T07:27:41.734870Z"
    }
   },
   "outputs": [],
   "source": [
    "def matrix_to_regression(n,p):\n",
    "    df = tSEIRD_matrix(n,p,0.7,0.7)[1:]\n",
    "    title = float(n),float(p)\n",
    "    \n",
    "    X = df.drop('Infectious',axis=1)\n",
    "    X['product'] = X['TP'] * X['FP']\n",
    "    Y = df['Infectious']\n",
    "\n",
    "    vif = pd.DataFrame()\n",
    "    vif['VIF Factor'] = [variance_inflation_factor(X.values, i) for i in range(X.shape[1])]\n",
    "    vif['features'] = X.columns\n",
    "    print(vif)\n",
    "    \n",
    "    lr = LinearRegression(fit_intercept=False)\n",
    "    lr.fit(X, Y)\n",
    "    \n",
    "    fig, ax = plt.subplots()\n",
    "    t = np.arange(1, 180)\n",
    "    \n",
    "    y0 = df['Infectious'][1000:1800000:1000]\n",
    "    l0 = 'raw'\n",
    "    ax.plot(t, y0, color=c1, label=l0)\n",
    "    \n",
    "    y1 = lr.predict(X)[1000:1800000:1000]\n",
    "    l1 = 'lr'\n",
    "    ax.plot(t, y1, color=c0, label=l1)\n",
    "\n",
    "    ax.set_xlabel('Elasped time (days)')\n",
    "    ax.set_ylabel('Infectious populations (person)')\n",
    "\n",
    "    plt.gca().spines['right'].set_visible(False)\n",
    "    plt.gca().spines['top'].set_visible(False)\n",
    "    plt.gca().yaxis.set_ticks_position('left')\n",
    "    plt.gca().xaxis.set_ticks_position('bottom')\n",
    "    \n",
    "    plt.ylim(0,350000)\n",
    "\n",
    "    plt.show()\n",
    "\n",
    "    df_coef = pd.DataFrame()\n",
    "    df_coef = pd.concat([df_coef,pd.DataFrame(lr.coef_).T])\n",
    "    df_coef.columns = ['TP','FP','product']\n",
    "    df_coef.index = ['lr']\n",
    "    print(df_coef)"
   ]
  },
  {
   "cell_type": "markdown",
   "metadata": {},
   "source": [
    "# Execeute function to get overlapping line plot"
   ]
  },
  {
   "cell_type": "code",
   "execution_count": 48,
   "metadata": {},
   "outputs": [
    {
     "name": "stderr",
     "output_type": "stream",
     "text": [
      "<ipython-input-44-612ce78b4953>:3: RuntimeWarning: overflow encountered in double_scalars\n",
      "  s = 1 / (1 + e**-a)\n"
     ]
    },
    {
     "name": "stdout",
     "output_type": "stream",
     "text": [
      "   VIF Factor features\n",
      "0    3.964459       TP\n",
      "1    9.768303       FP\n",
      "2   11.871206  product\n"
     ]
    },
    {
     "data": {
      "image/png": "[encoded data removed]",
      "text/plain": [
       "<Figure size 432x288 with 1 Axes>"
      ]
     },
     "metadata": {
      "needs_background": "light"
     },
     "output_type": "display_data"
    },
    {
     "name": "stdout",
     "output_type": "stream",
     "text": [
      "            TP        FP   product\n",
      "lr  202.247081  1.274691 -0.001623\n"
     ]
    }
   ],
   "source": [
    "matrix_to_regression(0.5,0.01)"
   ]
  },
  {
   "cell_type": "code",
   "execution_count": 49,
   "metadata": {},
   "outputs": [
    {
     "name": "stderr",
     "output_type": "stream",
     "text": [
      "<ipython-input-44-612ce78b4953>:3: RuntimeWarning: overflow encountered in double_scalars\n",
      "  s = 1 / (1 + e**-a)\n"
     ]
    },
    {
     "name": "stdout",
     "output_type": "stream",
     "text": [
      "   VIF Factor features\n",
      "0    4.170847       TP\n",
      "1    9.719213       FP\n",
      "2   11.893310  product\n"
     ]
    },
    {
     "data": {
      "image/png": "[encoded data removed]",
      "text/plain": [
       "<Figure size 432x288 with 1 Axes>"
      ]
     },
     "metadata": {
      "needs_background": "light"
     },
     "output_type": "display_data"
    },
    {
     "name": "stdout",
     "output_type": "stream",
     "text": [
      "            TP        FP   product\n",
      "lr  103.769117  1.382424 -0.000924\n"
     ]
    }
   ],
   "source": [
    "matrix_to_regression(0.5,0.02)"
   ]
  },
  {
   "cell_type": "code",
   "execution_count": 50,
   "metadata": {},
   "outputs": [
    {
     "name": "stderr",
     "output_type": "stream",
     "text": [
      "<ipython-input-44-612ce78b4953>:3: RuntimeWarning: overflow encountered in double_scalars\n",
      "  s = 1 / (1 + e**-a)\n"
     ]
    },
    {
     "name": "stdout",
     "output_type": "stream",
     "text": [
      "   VIF Factor features\n",
      "0    4.122067       TP\n",
      "1    9.796848       FP\n",
      "2   12.040470  product\n"
     ]
    },
    {
     "data": {
      "image/png": "[encoded data removed]",
      "text/plain": [
       "<Figure size 432x288 with 1 Axes>"
      ]
     },
     "metadata": {
      "needs_background": "light"
     },
     "output_type": "display_data"
    },
    {
     "name": "stdout",
     "output_type": "stream",
     "text": [
      "            TP        FP   product\n",
      "lr  104.779927  1.409033 -0.000785\n"
     ]
    }
   ],
   "source": [
    "matrix_to_regression(0.8,0.02)"
   ]
  },
  {
   "cell_type": "markdown",
   "metadata": {},
   "source": [
    "# preparation for scatter plot"
   ]
  },
  {
   "cell_type": "code",
   "execution_count": 51,
   "metadata": {},
   "outputs": [
    {
     "data": {
      "text/html": [
       "<div>\n",
       "<style scoped>\n",
       "    .dataframe tbody tr th:only-of-type {\n",
       "        vertical-align: middle;\n",
       "    }\n",
       "\n",
       "    .dataframe tbody tr th {\n",
       "        vertical-align: top;\n",
       "    }\n",
       "\n",
       "    .dataframe thead th {\n",
       "        text-align: right;\n",
       "    }\n",
       "</style>\n",
       "<table border=\"1\" class=\"dataframe\">\n",
       "  <thead>\n",
       "    <tr style=\"text-align: right;\">\n",
       "      <th></th>\n",
       "      <th>n</th>\n",
       "      <th>p</th>\n",
       "      <th>TP</th>\n",
       "      <th>FP</th>\n",
       "      <th>adj_R2</th>\n",
       "      <th>npr</th>\n",
       "      <th>pnr</th>\n",
       "    </tr>\n",
       "  </thead>\n",
       "  <tbody>\n",
       "    <tr>\n",
       "      <th>0</th>\n",
       "      <td>0.0</td>\n",
       "      <td>0.00</td>\n",
       "      <td>0.00</td>\n",
       "      <td>0.00</td>\n",
       "      <td>-0.31</td>\n",
       "      <td>NaN</td>\n",
       "      <td>NaN</td>\n",
       "    </tr>\n",
       "    <tr>\n",
       "      <th>1</th>\n",
       "      <td>0.0</td>\n",
       "      <td>0.01</td>\n",
       "      <td>150.69</td>\n",
       "      <td>0.00</td>\n",
       "      <td>1.00</td>\n",
       "      <td>0.000000</td>\n",
       "      <td>inf</td>\n",
       "    </tr>\n",
       "    <tr>\n",
       "      <th>2</th>\n",
       "      <td>0.0</td>\n",
       "      <td>0.02</td>\n",
       "      <td>79.22</td>\n",
       "      <td>0.00</td>\n",
       "      <td>1.00</td>\n",
       "      <td>0.000000</td>\n",
       "      <td>inf</td>\n",
       "    </tr>\n",
       "    <tr>\n",
       "      <th>3</th>\n",
       "      <td>0.0</td>\n",
       "      <td>0.03</td>\n",
       "      <td>55.38</td>\n",
       "      <td>0.00</td>\n",
       "      <td>0.99</td>\n",
       "      <td>0.000000</td>\n",
       "      <td>inf</td>\n",
       "    </tr>\n",
       "    <tr>\n",
       "      <th>4</th>\n",
       "      <td>0.0</td>\n",
       "      <td>0.04</td>\n",
       "      <td>43.45</td>\n",
       "      <td>0.00</td>\n",
       "      <td>0.99</td>\n",
       "      <td>0.000000</td>\n",
       "      <td>inf</td>\n",
       "    </tr>\n",
       "    <tr>\n",
       "      <th>...</th>\n",
       "      <td>...</td>\n",
       "      <td>...</td>\n",
       "      <td>...</td>\n",
       "      <td>...</td>\n",
       "      <td>...</td>\n",
       "      <td>...</td>\n",
       "      <td>...</td>\n",
       "    </tr>\n",
       "    <tr>\n",
       "      <th>10196</th>\n",
       "      <td>1.0</td>\n",
       "      <td>0.96</td>\n",
       "      <td>3.57</td>\n",
       "      <td>11.68</td>\n",
       "      <td>0.49</td>\n",
       "      <td>1.041667</td>\n",
       "      <td>0.96</td>\n",
       "    </tr>\n",
       "    <tr>\n",
       "      <th>10197</th>\n",
       "      <td>1.0</td>\n",
       "      <td>0.97</td>\n",
       "      <td>3.50</td>\n",
       "      <td>11.61</td>\n",
       "      <td>0.49</td>\n",
       "      <td>1.030928</td>\n",
       "      <td>0.97</td>\n",
       "    </tr>\n",
       "    <tr>\n",
       "      <th>10198</th>\n",
       "      <td>1.0</td>\n",
       "      <td>0.98</td>\n",
       "      <td>3.44</td>\n",
       "      <td>11.55</td>\n",
       "      <td>0.49</td>\n",
       "      <td>1.020408</td>\n",
       "      <td>0.98</td>\n",
       "    </tr>\n",
       "    <tr>\n",
       "      <th>10199</th>\n",
       "      <td>1.0</td>\n",
       "      <td>0.99</td>\n",
       "      <td>3.37</td>\n",
       "      <td>11.49</td>\n",
       "      <td>0.48</td>\n",
       "      <td>1.010101</td>\n",
       "      <td>0.99</td>\n",
       "    </tr>\n",
       "    <tr>\n",
       "      <th>10200</th>\n",
       "      <td>1.0</td>\n",
       "      <td>1.00</td>\n",
       "      <td>3.31</td>\n",
       "      <td>11.43</td>\n",
       "      <td>0.48</td>\n",
       "      <td>1.000000</td>\n",
       "      <td>1.00</td>\n",
       "    </tr>\n",
       "  </tbody>\n",
       "</table>\n",
       "<p>10201 rows × 7 columns</p>\n",
       "</div>"
      ],
      "text/plain": [
       "         n     p      TP     FP  adj_R2       npr   pnr\n",
       "0      0.0  0.00    0.00   0.00   -0.31       NaN   NaN\n",
       "1      0.0  0.01  150.69   0.00    1.00  0.000000   inf\n",
       "2      0.0  0.02   79.22   0.00    1.00  0.000000   inf\n",
       "3      0.0  0.03   55.38   0.00    0.99  0.000000   inf\n",
       "4      0.0  0.04   43.45   0.00    0.99  0.000000   inf\n",
       "...    ...   ...     ...    ...     ...       ...   ...\n",
       "10196  1.0  0.96    3.57  11.68    0.49  1.041667  0.96\n",
       "10197  1.0  0.97    3.50  11.61    0.49  1.030928  0.97\n",
       "10198  1.0  0.98    3.44  11.55    0.49  1.020408  0.98\n",
       "10199  1.0  0.99    3.37  11.49    0.48  1.010101  0.99\n",
       "10200  1.0  1.00    3.31  11.43    0.48  1.000000  1.00\n",
       "\n",
       "[10201 rows x 7 columns]"
      ]
     },
     "execution_count": 51,
     "metadata": {},
     "output_type": "execute_result"
    }
   ],
   "source": [
    "data = pd.read_csv('coef_all.csv')\n",
    "\n",
    "data['npr'] = data['n'] / data['p']\n",
    "data['pnr'] = data['p'] / data['n']\n",
    "\n",
    "df1 = data[data['adj_R2']>=0]\n",
    "df1 = data[data['n']!=0]\n",
    "df1 = data[data['p']!=0]\n",
    "df1 = data[data['TP']!=0]\n",
    "df1 = data[data['FP']!=0]\n",
    "df1 = data.drop(['product'],axis=1)\n",
    "df1"
   ]
  },
  {
   "cell_type": "code",
   "execution_count": 52,
   "metadata": {},
   "outputs": [
    {
     "data": {
      "text/plain": [
       "<matplotlib.colorbar.Colorbar at 0x132b8900a60>"
      ]
     },
     "execution_count": 52,
     "metadata": {},
     "output_type": "execute_result"
    },
    {
     "data": {
      "image/png": "[encoded data removed]",
      "text/plain": [
       "<Figure size 432x288 with 2 Axes>"
      ]
     },
     "metadata": {
      "needs_background": "light"
     },
     "output_type": "display_data"
    }
   ],
   "source": [
    "x1 = df1['FP']\n",
    "y1 = df1['TP']\n",
    "\n",
    "plt.scatter(x1, y1, s=20, c=df1['pnr'], cmap='coolwarm')#, s=100, c='pink', alpha=0.2, linewidths='1',edgecolors='red',label='Elastic_net')\n",
    "\n",
    "plt.xlabel('$w_f$')\n",
    "plt.ylabel('$w_m$')\n",
    "\n",
    "# カラーバーを表示\n",
    "plt.colorbar()\n",
    "\n",
    "#plt.legend()\n",
    "\n",
    "#plt.title('estimated weights for Pf and Pm')"
   ]
  },
  {
   "cell_type": "markdown",
   "metadata": {},
   "source": [
    "## to get 'coef_all.csv', run following codes "
   ]
  },
  {
   "cell_type": "code",
   "execution_count": null,
   "metadata": {},
   "outputs": [],
   "source": []
  }
 ],
 "metadata": {
  "kernelspec": {
   "display_name": "Python 3",
   "language": "python",
   "name": "python3"
  },
  "language_info": {
   "codemirror_mode": {
    "name": "ipython",
    "version": 3
   },
   "file_extension": ".py",
   "mimetype": "text/x-python",
   "name": "python",
   "nbconvert_exporter": "python",
   "pygments_lexer": "ipython3",
   "version": "3.8.5"
  }
 },
 "nbformat": 4,
 "nbformat_minor": 4
}
