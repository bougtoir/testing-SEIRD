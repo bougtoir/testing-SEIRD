{
 "cells": [
  {
   "cell_type": "code",
   "execution_count": 1,
   "metadata": {
    "ExecuteTime": {
     "end_time": "2020-10-27T02:43:37.498698Z",
     "start_time": "2020-10-27T02:43:29.656330Z"
    }
   },
   "outputs": [],
   "source": [
    "import pandas as pd\n",
    "import numpy as np\n",
    "import matplotlib.pyplot as plt\n",
    "import math\n",
    "from scipy.integrate import odeint\n",
    "from statsmodels.stats.outliers_influence import variance_inflation_factor\n",
    "from sklearn.linear_model import LinearRegression,Ridge,Lasso\n",
    "import statsmodels.api as sm\n",
    "#import ray"
   ]
  },
  {
   "cell_type": "markdown",
   "metadata": {},
   "source": [
    "# Parameters set"
   ]
  },
  {
   "cell_type": "code",
   "execution_count": 2,
   "metadata": {
    "ExecuteTime": {
     "end_time": "2020-10-27T02:43:37.530697Z",
     "start_time": "2020-10-27T02:43:37.503696Z"
    }
   },
   "outputs": [],
   "source": [
    "# parameters\n",
    "\n",
    "t_max = 180             # シミュレーション日数\n",
    "dt    = 0.001\n",
    "pop   = 1000000         # シミュレーション人口（100万人）\n",
    "b     = 1               # ルーズなb\n",
    "m     = 0.04            # E→S\n",
    "g     = 0.2 - m         # E -> I 1/incubtation\n",
    "dh    = 0.007           # mortality in confirmed case（7%）/infectious period（10日）\n",
    "rh    = 0.093           # d_i + r_i = Constant(1/infectious period（10日）) \n",
    "do    = 0.010           # mortality in unconfirmed case（4%）/infectious period（10日）\n",
    "ro    = 0.090           # d_o + r_o = Constant(1/infectious period（10日）)\n",
    "\n",
    "#初期状態\n",
    "\n",
    "Sh = 1\n",
    "Eh = 1\n",
    "Ih = 1\n",
    "Rh = 0\n",
    "Dh = 0\n",
    "\n",
    "So = 999900\n",
    "Eo = 0\n",
    "Io = 97\n",
    "Ro = 0\n",
    "Do = 0\n",
    "\n",
    "ini_state = [Sh, Eh, Ih, Rh, Dh, So, Eo, Io, Ro, Do\n",
    "    ]"
   ]
  },
  {
   "cell_type": "markdown",
   "metadata": {},
   "source": [
    "# Defining functions"
   ]
  },
  {
   "cell_type": "code",
   "execution_count": 3,
   "metadata": {
    "ExecuteTime": {
     "end_time": "2020-10-27T02:43:37.544698Z",
     "start_time": "2020-10-27T02:43:37.536697Z"
    }
   },
   "outputs": [],
   "source": [
    "def sigmoid(a):\n",
    "    e = math.e\n",
    "    s = 1 / (1 + e**-a)\n",
    "    return s"
   ]
  },
  {
   "cell_type": "code",
   "execution_count": 4,
   "metadata": {
    "ExecuteTime": {
     "end_time": "2020-10-27T02:43:37.608697Z",
     "start_time": "2020-10-27T02:43:37.550697Z"
    }
   },
   "outputs": [],
   "source": [
    "def tSEIRD(v, t, a, m, b, g, rh, dh, ro, do, n, p, Se, Sp, cap):\n",
    "    beds = np.sum(ini_state) * cap\n",
    "    return [\n",
    "        - b * v[0] * v[2]/ (v[0] + v[1] + v[2]) + m * v[1] - a * v[0], #[0] S_h\n",
    "        b * v[0] * v[2] / (v[0] + v[1] + v[2]) - (m + g) * v[1] + n * (1 - Sp) * v[6] * sigmoid(beds-(v[0]+v[1]+v[2])), #[1] E_h\n",
    "        g * v[1] - (rh + dh) * v[2] + p * Se * v[7] * sigmoid(beds-(v[0]+v[1]+v[2])), #[2] I_h\n",
    "        rh * v[2], #[3] R_h\n",
    "        dh * v[2], #[4] D_h\n",
    "        - b * v[5] * v[7] / (v[5] + v[6] + v[7] + v[8] + v[3]) + m * v[6] + a * v[0], #[5] S_o\n",
    "        b * v[5] * v[7] / (v[5] + v[6] + v[7] + v[8] + v[3]) - (m + g) * v[6] - n * (1 - Sp) * v[6] * sigmoid(beds - (v[0]+v[1]+v[2])) ,#[6] E_o\n",
    "        g * v[6] - (ro + do) * v[7] - p * Se * v[7] * sigmoid(beds - (v[0]+v[1]+v[2])), #[7] I_o\n",
    "        ro * v[7], #[8] R_o\n",
    "        do * v[7] #[9] D_o\n",
    "                ]"
   ]
  },
  {
   "cell_type": "code",
   "execution_count": 5,
   "metadata": {
    "ExecuteTime": {
     "end_time": "2020-10-27T02:43:37.655698Z",
     "start_time": "2020-10-27T02:43:37.613705Z"
    }
   },
   "outputs": [],
   "source": [
    "def tSEIRD_matrix(n,p,Se=0.7,Sp=0.7,cap=0.1,a=0):\n",
    "\n",
    "    times = np.arange(0, t_max, dt)\n",
    "    args = (a, m, b, g, rh, dh, ro, do, n, p, Se, Sp, cap)\n",
    "\n",
    "    result = odeint(tSEIRD, ini_state, times, args)\n",
    "\n",
    "    df = pd.DataFrame(result)\n",
    "    \n",
    "    df['Sh'] = df[0]# / 1000\n",
    "    df['Eh'] = df[1]# / 1000\n",
    "    df['Ih'] = df[2]# / 1000\n",
    "    df['Rh'] = df[3]# / 1000\n",
    "    df['Dh'] = df[4]# / 1000\n",
    "    \n",
    "    df['So'] = df[5]# / 1000\n",
    "    df['Eo'] = df[6]# / 1000\n",
    "    df['Io'] = df[7]# / 1000\n",
    "    df['Ro'] = df[8]# / 1000\n",
    "    df['Do'] = df[9]# / 1000\n",
    "    \n",
    "    df['Susceptible'] = (df[0] + df[5])# / 1000 #10\n",
    "    df['Exposed']     = (df[1] + df[6])# / 1000 #11\n",
    "    df['Infectious']  = (df[2] + df[7])# / 1000 #12\n",
    "    df['Recovered']   = (df[3] + df[8])# / 1000 #13\n",
    "    df['Dead']        = (df[4] + df[9])# / 1000 #14\n",
    "\n",
    "    df['Hospitalised']= (df[0] + df[1] + df[2])# / 1000 #15\n",
    "    df['Outside']     = (df[3] + df[5] + df[6] + df[7] + df[8])# / 1000 #16\n",
    "    \n",
    "    df['TP']          = (p * Se * df[7])# / 1000 #17\n",
    "    df['FP']          = (n * (1 - Sp) * df[6])# / 1000 #18\n",
    "    df['Positive']    = df['TP'] + df['FP'] #19\n",
    "\n",
    "    df['all']         = (df[0]+df[1]+df[2]+df[3]+df[4]+df[5]+df[6]+df[7]+df[8]+df[9])# / 1000 #20\n",
    "    df['beta_in']     = b / df['Hospitalised'] #21\n",
    "    df['beta_out']    = b / df['Outside'] #22\n",
    "    \n",
    "    df['delta_Dh']    = dh * df[2]\n",
    "    df['delta_Do']    = do * df[7]\n",
    "\n",
    "    df_ = df.drop([0, 1, 2, 3, 4, 5, 6, 7, 8, 9], axis=1)\n",
    "    \n",
    "    return df_[['Infectious','TP','FP']]"
   ]
  },
  {
   "cell_type": "code",
   "execution_count": 6,
   "metadata": {
    "ExecuteTime": {
     "end_time": "2020-10-27T02:43:37.686697Z",
     "start_time": "2020-10-27T02:43:37.659698Z"
    }
   },
   "outputs": [],
   "source": [
    "def matrix_to_coef(n,p):\n",
    "    df = tSEIRD_matrix(n,p,0.7,0.7)[1:]\n",
    "    \n",
    "    X = df.drop('Infectious',axis=1)\n",
    "    X['product'] = X['TP'] * X['FP']\n",
    "    Y = df['Infectious']\n",
    "\n",
    "    regr = LinearRegression(fit_intercept=False)\n",
    "    regr.fit(X, Y)\n",
    "\n",
    "    return [n,p,np.round(regr.coef_[0],2),np.round(regr.coef_[1],2),np.round(regr.coef_[2],2),np.round(regr.score(X,Y),2)]"
   ]
  },
  {
   "cell_type": "markdown",
   "metadata": {},
   "source": [
    "# obtain a coefficient matrix"
   ]
  },
  {
   "cell_type": "code",
   "execution_count": 7,
   "metadata": {
    "ExecuteTime": {
     "end_time": "2020-10-27T03:04:17.449083Z",
     "start_time": "2020-10-27T02:43:37.692698Z"
    }
   },
   "outputs": [
    {
     "name": "stderr",
     "output_type": "stream",
     "text": [
      "<ipython-input-3-612ce78b4953>:3: RuntimeWarning: overflow encountered in double_scalars\n",
      "  s = 1 / (1 + e**-a)\n",
      "<ipython-input-3-612ce78b4953>:3: RuntimeWarning: overflow encountered in double_scalars\n",
      "  s = 1 / (1 + e**-a)\n",
      "<ipython-input-3-612ce78b4953>:3: RuntimeWarning: overflow encountered in double_scalars\n",
      "  s = 1 / (1 + e**-a)\n",
      "<ipython-input-3-612ce78b4953>:3: RuntimeWarning: overflow encountered in double_scalars\n",
      "  s = 1 / (1 + e**-a)\n",
      "<ipython-input-3-612ce78b4953>:3: RuntimeWarning: overflow encountered in double_scalars\n",
      "  s = 1 / (1 + e**-a)\n",
      "<ipython-input-3-612ce78b4953>:3: RuntimeWarning: overflow encountered in double_scalars\n",
      "  s = 1 / (1 + e**-a)\n",
      "<ipython-input-3-612ce78b4953>:3: RuntimeWarning: overflow encountered in double_scalars\n",
      "  s = 1 / (1 + e**-a)\n",
      "<ipython-input-3-612ce78b4953>:3: RuntimeWarning: overflow encountered in double_scalars\n",
      "  s = 1 / (1 + e**-a)\n",
      "<ipython-input-3-612ce78b4953>:3: RuntimeWarning: overflow encountered in double_scalars\n",
      "  s = 1 / (1 + e**-a)\n",
      "<ipython-input-3-612ce78b4953>:3: RuntimeWarning: overflow encountered in double_scalars\n",
      "  s = 1 / (1 + e**-a)\n",
      "<ipython-input-3-612ce78b4953>:3: RuntimeWarning: overflow encountered in double_scalars\n",
      "  s = 1 / (1 + e**-a)\n",
      "<ipython-input-3-612ce78b4953>:3: RuntimeWarning: overflow encountered in double_scalars\n",
      "  s = 1 / (1 + e**-a)\n",
      "<ipython-input-3-612ce78b4953>:3: RuntimeWarning: overflow encountered in double_scalars\n",
      "  s = 1 / (1 + e**-a)\n",
      "<ipython-input-3-612ce78b4953>:3: RuntimeWarning: overflow encountered in double_scalars\n",
      "  s = 1 / (1 + e**-a)\n",
      "<ipython-input-3-612ce78b4953>:3: RuntimeWarning: overflow encountered in double_scalars\n",
      "  s = 1 / (1 + e**-a)\n",
      "<ipython-input-3-612ce78b4953>:3: RuntimeWarning: overflow encountered in double_scalars\n",
      "  s = 1 / (1 + e**-a)\n",
      "<ipython-input-3-612ce78b4953>:3: RuntimeWarning: overflow encountered in double_scalars\n",
      "  s = 1 / (1 + e**-a)\n",
      "<ipython-input-3-612ce78b4953>:3: RuntimeWarning: overflow encountered in double_scalars\n",
      "  s = 1 / (1 + e**-a)\n",
      "<ipython-input-3-612ce78b4953>:3: RuntimeWarning: overflow encountered in double_scalars\n",
      "  s = 1 / (1 + e**-a)\n",
      "<ipython-input-3-612ce78b4953>:3: RuntimeWarning: overflow encountered in double_scalars\n",
      "  s = 1 / (1 + e**-a)\n",
      "<ipython-input-3-612ce78b4953>:3: RuntimeWarning: overflow encountered in double_scalars\n",
      "  s = 1 / (1 + e**-a)\n",
      "<ipython-input-3-612ce78b4953>:3: RuntimeWarning: overflow encountered in double_scalars\n",
      "  s = 1 / (1 + e**-a)\n",
      "<ipython-input-3-612ce78b4953>:3: RuntimeWarning: overflow encountered in double_scalars\n",
      "  s = 1 / (1 + e**-a)\n",
      "<ipython-input-3-612ce78b4953>:3: RuntimeWarning: overflow encountered in double_scalars\n",
      "  s = 1 / (1 + e**-a)\n",
      "<ipython-input-3-612ce78b4953>:3: RuntimeWarning: overflow encountered in double_scalars\n",
      "  s = 1 / (1 + e**-a)\n",
      "<ipython-input-3-612ce78b4953>:3: RuntimeWarning: overflow encountered in double_scalars\n",
      "  s = 1 / (1 + e**-a)\n",
      "<ipython-input-3-612ce78b4953>:3: RuntimeWarning: overflow encountered in double_scalars\n",
      "  s = 1 / (1 + e**-a)\n",
      "<ipython-input-3-612ce78b4953>:3: RuntimeWarning: overflow encountered in double_scalars\n",
      "  s = 1 / (1 + e**-a)\n",
      "<ipython-input-3-612ce78b4953>:3: RuntimeWarning: overflow encountered in double_scalars\n",
      "  s = 1 / (1 + e**-a)\n",
      "<ipython-input-3-612ce78b4953>:3: RuntimeWarning: overflow encountered in double_scalars\n",
      "  s = 1 / (1 + e**-a)\n",
      "<ipython-input-3-612ce78b4953>:3: RuntimeWarning: overflow encountered in double_scalars\n",
      "  s = 1 / (1 + e**-a)\n",
      "<ipython-input-3-612ce78b4953>:3: RuntimeWarning: overflow encountered in double_scalars\n",
      "  s = 1 / (1 + e**-a)\n",
      "<ipython-input-3-612ce78b4953>:3: RuntimeWarning: overflow encountered in double_scalars\n",
      "  s = 1 / (1 + e**-a)\n",
      "<ipython-input-3-612ce78b4953>:3: RuntimeWarning: overflow encountered in double_scalars\n",
      "  s = 1 / (1 + e**-a)\n",
      "<ipython-input-3-612ce78b4953>:3: RuntimeWarning: overflow encountered in double_scalars\n",
      "  s = 1 / (1 + e**-a)\n",
      "<ipython-input-3-612ce78b4953>:3: RuntimeWarning: overflow encountered in double_scalars\n",
      "  s = 1 / (1 + e**-a)\n",
      "<ipython-input-3-612ce78b4953>:3: RuntimeWarning: overflow encountered in double_scalars\n",
      "  s = 1 / (1 + e**-a)\n",
      "<ipython-input-3-612ce78b4953>:3: RuntimeWarning: overflow encountered in double_scalars\n",
      "  s = 1 / (1 + e**-a)\n",
      "<ipython-input-3-612ce78b4953>:3: RuntimeWarning: overflow encountered in double_scalars\n",
      "  s = 1 / (1 + e**-a)\n",
      "<ipython-input-3-612ce78b4953>:3: RuntimeWarning: overflow encountered in double_scalars\n",
      "  s = 1 / (1 + e**-a)\n",
      "<ipython-input-3-612ce78b4953>:3: RuntimeWarning: overflow encountered in double_scalars\n",
      "  s = 1 / (1 + e**-a)\n",
      "<ipython-input-3-612ce78b4953>:3: RuntimeWarning: overflow encountered in double_scalars\n",
      "  s = 1 / (1 + e**-a)\n",
      "<ipython-input-3-612ce78b4953>:3: RuntimeWarning: overflow encountered in double_scalars\n",
      "  s = 1 / (1 + e**-a)\n",
      "<ipython-input-3-612ce78b4953>:3: RuntimeWarning: overflow encountered in double_scalars\n",
      "  s = 1 / (1 + e**-a)\n",
      "<ipython-input-3-612ce78b4953>:3: RuntimeWarning: overflow encountered in double_scalars\n",
      "  s = 1 / (1 + e**-a)\n",
      "<ipython-input-3-612ce78b4953>:3: RuntimeWarning: overflow encountered in double_scalars\n",
      "  s = 1 / (1 + e**-a)\n",
      "<ipython-input-3-612ce78b4953>:3: RuntimeWarning: overflow encountered in double_scalars\n",
      "  s = 1 / (1 + e**-a)\n",
      "<ipython-input-3-612ce78b4953>:3: RuntimeWarning: overflow encountered in double_scalars\n",
      "  s = 1 / (1 + e**-a)\n",
      "<ipython-input-3-612ce78b4953>:3: RuntimeWarning: overflow encountered in double_scalars\n",
      "  s = 1 / (1 + e**-a)\n",
      "<ipython-input-3-612ce78b4953>:3: RuntimeWarning: overflow encountered in double_scalars\n",
      "  s = 1 / (1 + e**-a)\n",
      "<ipython-input-3-612ce78b4953>:3: RuntimeWarning: overflow encountered in double_scalars\n",
      "  s = 1 / (1 + e**-a)\n",
      "<ipython-input-3-612ce78b4953>:3: RuntimeWarning: overflow encountered in double_scalars\n",
      "  s = 1 / (1 + e**-a)\n",
      "<ipython-input-3-612ce78b4953>:3: RuntimeWarning: overflow encountered in double_scalars\n",
      "  s = 1 / (1 + e**-a)\n",
      "<ipython-input-3-612ce78b4953>:3: RuntimeWarning: overflow encountered in double_scalars\n",
      "  s = 1 / (1 + e**-a)\n",
      "<ipython-input-3-612ce78b4953>:3: RuntimeWarning: overflow encountered in double_scalars\n",
      "  s = 1 / (1 + e**-a)\n",
      "<ipython-input-3-612ce78b4953>:3: RuntimeWarning: overflow encountered in double_scalars\n",
      "  s = 1 / (1 + e**-a)\n",
      "<ipython-input-3-612ce78b4953>:3: RuntimeWarning: overflow encountered in double_scalars\n",
      "  s = 1 / (1 + e**-a)\n",
      "<ipython-input-3-612ce78b4953>:3: RuntimeWarning: overflow encountered in double_scalars\n",
      "  s = 1 / (1 + e**-a)\n",
      "<ipython-input-3-612ce78b4953>:3: RuntimeWarning: overflow encountered in double_scalars\n",
      "  s = 1 / (1 + e**-a)\n",
      "<ipython-input-3-612ce78b4953>:3: RuntimeWarning: overflow encountered in double_scalars\n",
      "  s = 1 / (1 + e**-a)\n",
      "<ipython-input-3-612ce78b4953>:3: RuntimeWarning: overflow encountered in double_scalars\n",
      "  s = 1 / (1 + e**-a)\n",
      "<ipython-input-3-612ce78b4953>:3: RuntimeWarning: overflow encountered in double_scalars\n",
      "  s = 1 / (1 + e**-a)\n",
      "<ipython-input-3-612ce78b4953>:3: RuntimeWarning: overflow encountered in double_scalars\n",
      "  s = 1 / (1 + e**-a)\n",
      "<ipython-input-3-612ce78b4953>:3: RuntimeWarning: overflow encountered in double_scalars\n",
      "  s = 1 / (1 + e**-a)\n",
      "<ipython-input-3-612ce78b4953>:3: RuntimeWarning: overflow encountered in double_scalars\n",
      "  s = 1 / (1 + e**-a)\n",
      "<ipython-input-3-612ce78b4953>:3: RuntimeWarning: overflow encountered in double_scalars\n",
      "  s = 1 / (1 + e**-a)\n",
      "<ipython-input-3-612ce78b4953>:3: RuntimeWarning: overflow encountered in double_scalars\n",
      "  s = 1 / (1 + e**-a)\n",
      "<ipython-input-3-612ce78b4953>:3: RuntimeWarning: overflow encountered in double_scalars\n",
      "  s = 1 / (1 + e**-a)\n",
      "<ipython-input-3-612ce78b4953>:3: RuntimeWarning: overflow encountered in double_scalars\n",
      "  s = 1 / (1 + e**-a)\n",
      "<ipython-input-3-612ce78b4953>:3: RuntimeWarning: overflow encountered in double_scalars\n",
      "  s = 1 / (1 + e**-a)\n",
      "<ipython-input-3-612ce78b4953>:3: RuntimeWarning: overflow encountered in double_scalars\n",
      "  s = 1 / (1 + e**-a)\n",
      "<ipython-input-3-612ce78b4953>:3: RuntimeWarning: overflow encountered in double_scalars\n",
      "  s = 1 / (1 + e**-a)\n",
      "<ipython-input-3-612ce78b4953>:3: RuntimeWarning: overflow encountered in double_scalars\n",
      "  s = 1 / (1 + e**-a)\n",
      "<ipython-input-3-612ce78b4953>:3: RuntimeWarning: overflow encountered in double_scalars\n",
      "  s = 1 / (1 + e**-a)\n"
     ]
    },
    {
     "name": "stderr",
     "output_type": "stream",
     "text": [
      "<ipython-input-3-612ce78b4953>:3: RuntimeWarning: overflow encountered in double_scalars\n",
      "  s = 1 / (1 + e**-a)\n",
      "<ipython-input-3-612ce78b4953>:3: RuntimeWarning: overflow encountered in double_scalars\n",
      "  s = 1 / (1 + e**-a)\n",
      "<ipython-input-3-612ce78b4953>:3: RuntimeWarning: overflow encountered in double_scalars\n",
      "  s = 1 / (1 + e**-a)\n",
      "<ipython-input-3-612ce78b4953>:3: RuntimeWarning: overflow encountered in double_scalars\n",
      "  s = 1 / (1 + e**-a)\n",
      "<ipython-input-3-612ce78b4953>:3: RuntimeWarning: overflow encountered in double_scalars\n",
      "  s = 1 / (1 + e**-a)\n",
      "<ipython-input-3-612ce78b4953>:3: RuntimeWarning: overflow encountered in double_scalars\n",
      "  s = 1 / (1 + e**-a)\n",
      "<ipython-input-3-612ce78b4953>:3: RuntimeWarning: overflow encountered in double_scalars\n",
      "  s = 1 / (1 + e**-a)\n",
      "<ipython-input-3-612ce78b4953>:3: RuntimeWarning: overflow encountered in double_scalars\n",
      "  s = 1 / (1 + e**-a)\n",
      "<ipython-input-3-612ce78b4953>:3: RuntimeWarning: overflow encountered in double_scalars\n",
      "  s = 1 / (1 + e**-a)\n",
      "<ipython-input-3-612ce78b4953>:3: RuntimeWarning: overflow encountered in double_scalars\n",
      "  s = 1 / (1 + e**-a)\n",
      "<ipython-input-3-612ce78b4953>:3: RuntimeWarning: overflow encountered in double_scalars\n",
      "  s = 1 / (1 + e**-a)\n",
      "<ipython-input-3-612ce78b4953>:3: RuntimeWarning: overflow encountered in double_scalars\n",
      "  s = 1 / (1 + e**-a)\n",
      "<ipython-input-3-612ce78b4953>:3: RuntimeWarning: overflow encountered in double_scalars\n",
      "  s = 1 / (1 + e**-a)\n",
      "<ipython-input-3-612ce78b4953>:3: RuntimeWarning: overflow encountered in double_scalars\n",
      "  s = 1 / (1 + e**-a)\n",
      "<ipython-input-3-612ce78b4953>:3: RuntimeWarning: overflow encountered in double_scalars\n",
      "  s = 1 / (1 + e**-a)\n"
     ]
    },
    {
     "ename": "KeyboardInterrupt",
     "evalue": "",
     "output_type": "error",
     "traceback": [
      "\u001b[1;31m---------------------------------------------------------------------------\u001b[0m",
      "\u001b[1;31mKeyboardInterrupt\u001b[0m                         Traceback (most recent call last)",
      "\u001b[1;32m<ipython-input-7-2bc79655b7c2>\u001b[0m in \u001b[0;36m<module>\u001b[1;34m\u001b[0m\n\u001b[0;32m      5\u001b[0m \u001b[1;32mfor\u001b[0m \u001b[0mn\u001b[0m \u001b[1;32min\u001b[0m \u001b[0mns\u001b[0m\u001b[1;33m:\u001b[0m\u001b[1;33m\u001b[0m\u001b[1;33m\u001b[0m\u001b[0m\n\u001b[0;32m      6\u001b[0m     \u001b[1;32mfor\u001b[0m \u001b[0mp\u001b[0m \u001b[1;32min\u001b[0m \u001b[0mps\u001b[0m\u001b[1;33m:\u001b[0m\u001b[1;33m\u001b[0m\u001b[1;33m\u001b[0m\u001b[0m\n\u001b[1;32m----> 7\u001b[1;33m         \u001b[0mres\u001b[0m \u001b[1;33m=\u001b[0m \u001b[0mmatrix_to_coef\u001b[0m\u001b[1;33m(\u001b[0m\u001b[0mn\u001b[0m\u001b[1;33m,\u001b[0m\u001b[0mp\u001b[0m\u001b[1;33m)\u001b[0m\u001b[1;33m\u001b[0m\u001b[1;33m\u001b[0m\u001b[0m\n\u001b[0m\u001b[0;32m      8\u001b[0m         \u001b[0mcoef\u001b[0m\u001b[1;33m.\u001b[0m\u001b[0mappend\u001b[0m\u001b[1;33m(\u001b[0m\u001b[0mres\u001b[0m\u001b[1;33m)\u001b[0m\u001b[1;33m\u001b[0m\u001b[1;33m\u001b[0m\u001b[0m\n\u001b[0;32m      9\u001b[0m \u001b[1;33m\u001b[0m\u001b[0m\n",
      "\u001b[1;32m<ipython-input-6-dade39e793a6>\u001b[0m in \u001b[0;36mmatrix_to_coef\u001b[1;34m(n, p)\u001b[0m\n\u001b[0;32m      7\u001b[0m \u001b[1;33m\u001b[0m\u001b[0m\n\u001b[0;32m      8\u001b[0m     \u001b[0mregr\u001b[0m \u001b[1;33m=\u001b[0m \u001b[0mLinearRegression\u001b[0m\u001b[1;33m(\u001b[0m\u001b[0mfit_intercept\u001b[0m\u001b[1;33m=\u001b[0m\u001b[1;32mFalse\u001b[0m\u001b[1;33m)\u001b[0m\u001b[1;33m\u001b[0m\u001b[1;33m\u001b[0m\u001b[0m\n\u001b[1;32m----> 9\u001b[1;33m     \u001b[0mregr\u001b[0m\u001b[1;33m.\u001b[0m\u001b[0mfit\u001b[0m\u001b[1;33m(\u001b[0m\u001b[0mX\u001b[0m\u001b[1;33m,\u001b[0m \u001b[0mY\u001b[0m\u001b[1;33m)\u001b[0m\u001b[1;33m\u001b[0m\u001b[1;33m\u001b[0m\u001b[0m\n\u001b[0m\u001b[0;32m     10\u001b[0m \u001b[1;33m\u001b[0m\u001b[0m\n\u001b[0;32m     11\u001b[0m     \u001b[1;32mreturn\u001b[0m \u001b[1;33m[\u001b[0m\u001b[0mn\u001b[0m\u001b[1;33m,\u001b[0m\u001b[0mp\u001b[0m\u001b[1;33m,\u001b[0m\u001b[0mnp\u001b[0m\u001b[1;33m.\u001b[0m\u001b[0mround\u001b[0m\u001b[1;33m(\u001b[0m\u001b[0mregr\u001b[0m\u001b[1;33m.\u001b[0m\u001b[0mcoef_\u001b[0m\u001b[1;33m[\u001b[0m\u001b[1;36m0\u001b[0m\u001b[1;33m]\u001b[0m\u001b[1;33m,\u001b[0m\u001b[1;36m2\u001b[0m\u001b[1;33m)\u001b[0m\u001b[1;33m,\u001b[0m\u001b[0mnp\u001b[0m\u001b[1;33m.\u001b[0m\u001b[0mround\u001b[0m\u001b[1;33m(\u001b[0m\u001b[0mregr\u001b[0m\u001b[1;33m.\u001b[0m\u001b[0mcoef_\u001b[0m\u001b[1;33m[\u001b[0m\u001b[1;36m1\u001b[0m\u001b[1;33m]\u001b[0m\u001b[1;33m,\u001b[0m\u001b[1;36m2\u001b[0m\u001b[1;33m)\u001b[0m\u001b[1;33m,\u001b[0m\u001b[0mnp\u001b[0m\u001b[1;33m.\u001b[0m\u001b[0mround\u001b[0m\u001b[1;33m(\u001b[0m\u001b[0mregr\u001b[0m\u001b[1;33m.\u001b[0m\u001b[0mcoef_\u001b[0m\u001b[1;33m[\u001b[0m\u001b[1;36m2\u001b[0m\u001b[1;33m]\u001b[0m\u001b[1;33m,\u001b[0m\u001b[1;36m2\u001b[0m\u001b[1;33m)\u001b[0m\u001b[1;33m,\u001b[0m\u001b[0mnp\u001b[0m\u001b[1;33m.\u001b[0m\u001b[0mround\u001b[0m\u001b[1;33m(\u001b[0m\u001b[0mregr\u001b[0m\u001b[1;33m.\u001b[0m\u001b[0mscore\u001b[0m\u001b[1;33m(\u001b[0m\u001b[0mX\u001b[0m\u001b[1;33m,\u001b[0m\u001b[0mY\u001b[0m\u001b[1;33m)\u001b[0m\u001b[1;33m,\u001b[0m\u001b[1;36m2\u001b[0m\u001b[1;33m)\u001b[0m\u001b[1;33m]\u001b[0m\u001b[1;33m\u001b[0m\u001b[1;33m\u001b[0m\u001b[0m\n",
      "\u001b[1;32m~\\anaconda3\\Lib\\site-packages\\sklearn\\linear_model\\_base.py\u001b[0m in \u001b[0;36mfit\u001b[1;34m(self, X, y, sample_weight)\u001b[0m\n\u001b[0;32m    503\u001b[0m \u001b[1;33m\u001b[0m\u001b[0m\n\u001b[0;32m    504\u001b[0m         \u001b[0mn_jobs_\u001b[0m \u001b[1;33m=\u001b[0m \u001b[0mself\u001b[0m\u001b[1;33m.\u001b[0m\u001b[0mn_jobs\u001b[0m\u001b[1;33m\u001b[0m\u001b[1;33m\u001b[0m\u001b[0m\n\u001b[1;32m--> 505\u001b[1;33m         X, y = self._validate_data(X, y, accept_sparse=['csr', 'csc', 'coo'],\n\u001b[0m\u001b[0;32m    506\u001b[0m                                    y_numeric=True, multi_output=True)\n\u001b[0;32m    507\u001b[0m \u001b[1;33m\u001b[0m\u001b[0m\n",
      "\u001b[1;32m~\\anaconda3\\Lib\\site-packages\\sklearn\\base.py\u001b[0m in \u001b[0;36m_validate_data\u001b[1;34m(self, X, y, reset, validate_separately, **check_params)\u001b[0m\n\u001b[0;32m    430\u001b[0m                 \u001b[0my\u001b[0m \u001b[1;33m=\u001b[0m \u001b[0mcheck_array\u001b[0m\u001b[1;33m(\u001b[0m\u001b[0my\u001b[0m\u001b[1;33m,\u001b[0m \u001b[1;33m**\u001b[0m\u001b[0mcheck_y_params\u001b[0m\u001b[1;33m)\u001b[0m\u001b[1;33m\u001b[0m\u001b[1;33m\u001b[0m\u001b[0m\n\u001b[0;32m    431\u001b[0m             \u001b[1;32melse\u001b[0m\u001b[1;33m:\u001b[0m\u001b[1;33m\u001b[0m\u001b[1;33m\u001b[0m\u001b[0m\n\u001b[1;32m--> 432\u001b[1;33m                 \u001b[0mX\u001b[0m\u001b[1;33m,\u001b[0m \u001b[0my\u001b[0m \u001b[1;33m=\u001b[0m \u001b[0mcheck_X_y\u001b[0m\u001b[1;33m(\u001b[0m\u001b[0mX\u001b[0m\u001b[1;33m,\u001b[0m \u001b[0my\u001b[0m\u001b[1;33m,\u001b[0m \u001b[1;33m**\u001b[0m\u001b[0mcheck_params\u001b[0m\u001b[1;33m)\u001b[0m\u001b[1;33m\u001b[0m\u001b[1;33m\u001b[0m\u001b[0m\n\u001b[0m\u001b[0;32m    433\u001b[0m             \u001b[0mout\u001b[0m \u001b[1;33m=\u001b[0m \u001b[0mX\u001b[0m\u001b[1;33m,\u001b[0m \u001b[0my\u001b[0m\u001b[1;33m\u001b[0m\u001b[1;33m\u001b[0m\u001b[0m\n\u001b[0;32m    434\u001b[0m \u001b[1;33m\u001b[0m\u001b[0m\n",
      "\u001b[1;32m~\\anaconda3\\Lib\\site-packages\\sklearn\\utils\\validation.py\u001b[0m in \u001b[0;36minner_f\u001b[1;34m(*args, **kwargs)\u001b[0m\n\u001b[0;32m     70\u001b[0m                           FutureWarning)\n\u001b[0;32m     71\u001b[0m         \u001b[0mkwargs\u001b[0m\u001b[1;33m.\u001b[0m\u001b[0mupdate\u001b[0m\u001b[1;33m(\u001b[0m\u001b[1;33m{\u001b[0m\u001b[0mk\u001b[0m\u001b[1;33m:\u001b[0m \u001b[0marg\u001b[0m \u001b[1;32mfor\u001b[0m \u001b[0mk\u001b[0m\u001b[1;33m,\u001b[0m \u001b[0marg\u001b[0m \u001b[1;32min\u001b[0m \u001b[0mzip\u001b[0m\u001b[1;33m(\u001b[0m\u001b[0msig\u001b[0m\u001b[1;33m.\u001b[0m\u001b[0mparameters\u001b[0m\u001b[1;33m,\u001b[0m \u001b[0margs\u001b[0m\u001b[1;33m)\u001b[0m\u001b[1;33m}\u001b[0m\u001b[1;33m)\u001b[0m\u001b[1;33m\u001b[0m\u001b[1;33m\u001b[0m\u001b[0m\n\u001b[1;32m---> 72\u001b[1;33m         \u001b[1;32mreturn\u001b[0m \u001b[0mf\u001b[0m\u001b[1;33m(\u001b[0m\u001b[1;33m**\u001b[0m\u001b[0mkwargs\u001b[0m\u001b[1;33m)\u001b[0m\u001b[1;33m\u001b[0m\u001b[1;33m\u001b[0m\u001b[0m\n\u001b[0m\u001b[0;32m     73\u001b[0m     \u001b[1;32mreturn\u001b[0m \u001b[0minner_f\u001b[0m\u001b[1;33m\u001b[0m\u001b[1;33m\u001b[0m\u001b[0m\n\u001b[0;32m     74\u001b[0m \u001b[1;33m\u001b[0m\u001b[0m\n",
      "\u001b[1;32m~\\anaconda3\\Lib\\site-packages\\sklearn\\utils\\validation.py\u001b[0m in \u001b[0;36mcheck_X_y\u001b[1;34m(X, y, accept_sparse, accept_large_sparse, dtype, order, copy, force_all_finite, ensure_2d, allow_nd, multi_output, ensure_min_samples, ensure_min_features, y_numeric, estimator)\u001b[0m\n\u001b[0;32m    793\u001b[0m         \u001b[1;32mraise\u001b[0m \u001b[0mValueError\u001b[0m\u001b[1;33m(\u001b[0m\u001b[1;34m\"y cannot be None\"\u001b[0m\u001b[1;33m)\u001b[0m\u001b[1;33m\u001b[0m\u001b[1;33m\u001b[0m\u001b[0m\n\u001b[0;32m    794\u001b[0m \u001b[1;33m\u001b[0m\u001b[0m\n\u001b[1;32m--> 795\u001b[1;33m     X = check_array(X, accept_sparse=accept_sparse,\n\u001b[0m\u001b[0;32m    796\u001b[0m                     \u001b[0maccept_large_sparse\u001b[0m\u001b[1;33m=\u001b[0m\u001b[0maccept_large_sparse\u001b[0m\u001b[1;33m,\u001b[0m\u001b[1;33m\u001b[0m\u001b[1;33m\u001b[0m\u001b[0m\n\u001b[0;32m    797\u001b[0m                     \u001b[0mdtype\u001b[0m\u001b[1;33m=\u001b[0m\u001b[0mdtype\u001b[0m\u001b[1;33m,\u001b[0m \u001b[0morder\u001b[0m\u001b[1;33m=\u001b[0m\u001b[0morder\u001b[0m\u001b[1;33m,\u001b[0m \u001b[0mcopy\u001b[0m\u001b[1;33m=\u001b[0m\u001b[0mcopy\u001b[0m\u001b[1;33m,\u001b[0m\u001b[1;33m\u001b[0m\u001b[1;33m\u001b[0m\u001b[0m\n",
      "\u001b[1;32m~\\anaconda3\\Lib\\site-packages\\sklearn\\utils\\validation.py\u001b[0m in \u001b[0;36minner_f\u001b[1;34m(*args, **kwargs)\u001b[0m\n\u001b[0;32m     70\u001b[0m                           FutureWarning)\n\u001b[0;32m     71\u001b[0m         \u001b[0mkwargs\u001b[0m\u001b[1;33m.\u001b[0m\u001b[0mupdate\u001b[0m\u001b[1;33m(\u001b[0m\u001b[1;33m{\u001b[0m\u001b[0mk\u001b[0m\u001b[1;33m:\u001b[0m \u001b[0marg\u001b[0m \u001b[1;32mfor\u001b[0m \u001b[0mk\u001b[0m\u001b[1;33m,\u001b[0m \u001b[0marg\u001b[0m \u001b[1;32min\u001b[0m \u001b[0mzip\u001b[0m\u001b[1;33m(\u001b[0m\u001b[0msig\u001b[0m\u001b[1;33m.\u001b[0m\u001b[0mparameters\u001b[0m\u001b[1;33m,\u001b[0m \u001b[0margs\u001b[0m\u001b[1;33m)\u001b[0m\u001b[1;33m}\u001b[0m\u001b[1;33m)\u001b[0m\u001b[1;33m\u001b[0m\u001b[1;33m\u001b[0m\u001b[0m\n\u001b[1;32m---> 72\u001b[1;33m         \u001b[1;32mreturn\u001b[0m \u001b[0mf\u001b[0m\u001b[1;33m(\u001b[0m\u001b[1;33m**\u001b[0m\u001b[0mkwargs\u001b[0m\u001b[1;33m)\u001b[0m\u001b[1;33m\u001b[0m\u001b[1;33m\u001b[0m\u001b[0m\n\u001b[0m\u001b[0;32m     73\u001b[0m     \u001b[1;32mreturn\u001b[0m \u001b[0minner_f\u001b[0m\u001b[1;33m\u001b[0m\u001b[1;33m\u001b[0m\u001b[0m\n\u001b[0;32m     74\u001b[0m \u001b[1;33m\u001b[0m\u001b[0m\n",
      "\u001b[1;32m~\\anaconda3\\Lib\\site-packages\\sklearn\\utils\\validation.py\u001b[0m in \u001b[0;36mcheck_array\u001b[1;34m(array, accept_sparse, accept_large_sparse, dtype, order, copy, force_all_finite, ensure_2d, allow_nd, ensure_min_samples, ensure_min_features, estimator)\u001b[0m\n\u001b[0;32m    596\u001b[0m                     \u001b[0marray\u001b[0m \u001b[1;33m=\u001b[0m \u001b[0marray\u001b[0m\u001b[1;33m.\u001b[0m\u001b[0mastype\u001b[0m\u001b[1;33m(\u001b[0m\u001b[0mdtype\u001b[0m\u001b[1;33m,\u001b[0m \u001b[0mcasting\u001b[0m\u001b[1;33m=\u001b[0m\u001b[1;34m\"unsafe\"\u001b[0m\u001b[1;33m,\u001b[0m \u001b[0mcopy\u001b[0m\u001b[1;33m=\u001b[0m\u001b[1;32mFalse\u001b[0m\u001b[1;33m)\u001b[0m\u001b[1;33m\u001b[0m\u001b[1;33m\u001b[0m\u001b[0m\n\u001b[0;32m    597\u001b[0m                 \u001b[1;32melse\u001b[0m\u001b[1;33m:\u001b[0m\u001b[1;33m\u001b[0m\u001b[1;33m\u001b[0m\u001b[0m\n\u001b[1;32m--> 598\u001b[1;33m                     \u001b[0marray\u001b[0m \u001b[1;33m=\u001b[0m \u001b[0mnp\u001b[0m\u001b[1;33m.\u001b[0m\u001b[0masarray\u001b[0m\u001b[1;33m(\u001b[0m\u001b[0marray\u001b[0m\u001b[1;33m,\u001b[0m \u001b[0morder\u001b[0m\u001b[1;33m=\u001b[0m\u001b[0morder\u001b[0m\u001b[1;33m,\u001b[0m \u001b[0mdtype\u001b[0m\u001b[1;33m=\u001b[0m\u001b[0mdtype\u001b[0m\u001b[1;33m)\u001b[0m\u001b[1;33m\u001b[0m\u001b[1;33m\u001b[0m\u001b[0m\n\u001b[0m\u001b[0;32m    599\u001b[0m             \u001b[1;32mexcept\u001b[0m \u001b[0mComplexWarning\u001b[0m\u001b[1;33m:\u001b[0m\u001b[1;33m\u001b[0m\u001b[1;33m\u001b[0m\u001b[0m\n\u001b[0;32m    600\u001b[0m                 raise ValueError(\"Complex data not supported\\n\"\n",
      "\u001b[1;32m~\\anaconda3\\Lib\\site-packages\\numpy\\core\\_asarray.py\u001b[0m in \u001b[0;36masarray\u001b[1;34m(a, dtype, order)\u001b[0m\n\u001b[0;32m     81\u001b[0m \u001b[1;33m\u001b[0m\u001b[0m\n\u001b[0;32m     82\u001b[0m     \"\"\"\n\u001b[1;32m---> 83\u001b[1;33m     \u001b[1;32mreturn\u001b[0m \u001b[0marray\u001b[0m\u001b[1;33m(\u001b[0m\u001b[0ma\u001b[0m\u001b[1;33m,\u001b[0m \u001b[0mdtype\u001b[0m\u001b[1;33m,\u001b[0m \u001b[0mcopy\u001b[0m\u001b[1;33m=\u001b[0m\u001b[1;32mFalse\u001b[0m\u001b[1;33m,\u001b[0m \u001b[0morder\u001b[0m\u001b[1;33m=\u001b[0m\u001b[0morder\u001b[0m\u001b[1;33m)\u001b[0m\u001b[1;33m\u001b[0m\u001b[1;33m\u001b[0m\u001b[0m\n\u001b[0m\u001b[0;32m     84\u001b[0m \u001b[1;33m\u001b[0m\u001b[0m\n\u001b[0;32m     85\u001b[0m \u001b[1;33m\u001b[0m\u001b[0m\n",
      "\u001b[1;32m~\\anaconda3\\Lib\\site-packages\\pandas\\core\\generic.py\u001b[0m in \u001b[0;36m__array__\u001b[1;34m(self, dtype)\u001b[0m\n\u001b[0;32m   1779\u001b[0m \u001b[1;33m\u001b[0m\u001b[0m\n\u001b[0;32m   1780\u001b[0m     \u001b[1;32mdef\u001b[0m \u001b[0m__array__\u001b[0m\u001b[1;33m(\u001b[0m\u001b[0mself\u001b[0m\u001b[1;33m,\u001b[0m \u001b[0mdtype\u001b[0m\u001b[1;33m=\u001b[0m\u001b[1;32mNone\u001b[0m\u001b[1;33m)\u001b[0m \u001b[1;33m->\u001b[0m \u001b[0mnp\u001b[0m\u001b[1;33m.\u001b[0m\u001b[0mndarray\u001b[0m\u001b[1;33m:\u001b[0m\u001b[1;33m\u001b[0m\u001b[1;33m\u001b[0m\u001b[0m\n\u001b[1;32m-> 1781\u001b[1;33m         \u001b[1;32mreturn\u001b[0m \u001b[0mnp\u001b[0m\u001b[1;33m.\u001b[0m\u001b[0masarray\u001b[0m\u001b[1;33m(\u001b[0m\u001b[0mself\u001b[0m\u001b[1;33m.\u001b[0m\u001b[0m_values\u001b[0m\u001b[1;33m,\u001b[0m \u001b[0mdtype\u001b[0m\u001b[1;33m=\u001b[0m\u001b[0mdtype\u001b[0m\u001b[1;33m)\u001b[0m\u001b[1;33m\u001b[0m\u001b[1;33m\u001b[0m\u001b[0m\n\u001b[0m\u001b[0;32m   1782\u001b[0m \u001b[1;33m\u001b[0m\u001b[0m\n\u001b[0;32m   1783\u001b[0m     \u001b[1;32mdef\u001b[0m \u001b[0m__array_wrap__\u001b[0m\u001b[1;33m(\u001b[0m\u001b[0mself\u001b[0m\u001b[1;33m,\u001b[0m \u001b[0mresult\u001b[0m\u001b[1;33m,\u001b[0m \u001b[0mcontext\u001b[0m\u001b[1;33m=\u001b[0m\u001b[1;32mNone\u001b[0m\u001b[1;33m)\u001b[0m\u001b[1;33m:\u001b[0m\u001b[1;33m\u001b[0m\u001b[1;33m\u001b[0m\u001b[0m\n",
      "\u001b[1;32m~\\anaconda3\\Lib\\site-packages\\pandas\\core\\generic.py\u001b[0m in \u001b[0;36m_values\u001b[1;34m(self)\u001b[0m\n\u001b[0;32m   5346\u001b[0m     \u001b[1;32mdef\u001b[0m \u001b[0m_values\u001b[0m\u001b[1;33m(\u001b[0m\u001b[0mself\u001b[0m\u001b[1;33m)\u001b[0m \u001b[1;33m->\u001b[0m \u001b[0mnp\u001b[0m\u001b[1;33m.\u001b[0m\u001b[0mndarray\u001b[0m\u001b[1;33m:\u001b[0m\u001b[1;33m\u001b[0m\u001b[1;33m\u001b[0m\u001b[0m\n\u001b[0;32m   5347\u001b[0m         \u001b[1;34m\"\"\"internal implementation\"\"\"\u001b[0m\u001b[1;33m\u001b[0m\u001b[1;33m\u001b[0m\u001b[0m\n\u001b[1;32m-> 5348\u001b[1;33m         \u001b[1;32mreturn\u001b[0m \u001b[0mself\u001b[0m\u001b[1;33m.\u001b[0m\u001b[0mvalues\u001b[0m\u001b[1;33m\u001b[0m\u001b[1;33m\u001b[0m\u001b[0m\n\u001b[0m\u001b[0;32m   5349\u001b[0m \u001b[1;33m\u001b[0m\u001b[0m\n\u001b[0;32m   5350\u001b[0m     \u001b[1;33m@\u001b[0m\u001b[0mproperty\u001b[0m\u001b[1;33m\u001b[0m\u001b[1;33m\u001b[0m\u001b[0m\n",
      "\u001b[1;32m~\\anaconda3\\Lib\\site-packages\\pandas\\core\\generic.py\u001b[0m in \u001b[0;36mvalues\u001b[1;34m(self)\u001b[0m\n\u001b[0;32m   5340\u001b[0m                ['monkey', nan, None]], dtype=object)\n\u001b[0;32m   5341\u001b[0m         \"\"\"\n\u001b[1;32m-> 5342\u001b[1;33m         \u001b[0mself\u001b[0m\u001b[1;33m.\u001b[0m\u001b[0m_consolidate_inplace\u001b[0m\u001b[1;33m(\u001b[0m\u001b[1;33m)\u001b[0m\u001b[1;33m\u001b[0m\u001b[1;33m\u001b[0m\u001b[0m\n\u001b[0m\u001b[0;32m   5343\u001b[0m         \u001b[1;32mreturn\u001b[0m \u001b[0mself\u001b[0m\u001b[1;33m.\u001b[0m\u001b[0m_mgr\u001b[0m\u001b[1;33m.\u001b[0m\u001b[0mas_array\u001b[0m\u001b[1;33m(\u001b[0m\u001b[0mtranspose\u001b[0m\u001b[1;33m=\u001b[0m\u001b[0mself\u001b[0m\u001b[1;33m.\u001b[0m\u001b[0m_AXIS_REVERSED\u001b[0m\u001b[1;33m)\u001b[0m\u001b[1;33m\u001b[0m\u001b[1;33m\u001b[0m\u001b[0m\n\u001b[0;32m   5344\u001b[0m \u001b[1;33m\u001b[0m\u001b[0m\n",
      "\u001b[1;32m~\\anaconda3\\Lib\\site-packages\\pandas\\core\\generic.py\u001b[0m in \u001b[0;36m_consolidate_inplace\u001b[1;34m(self)\u001b[0m\n\u001b[0;32m   5212\u001b[0m             \u001b[0mself\u001b[0m\u001b[1;33m.\u001b[0m\u001b[0m_mgr\u001b[0m \u001b[1;33m=\u001b[0m \u001b[0mself\u001b[0m\u001b[1;33m.\u001b[0m\u001b[0m_mgr\u001b[0m\u001b[1;33m.\u001b[0m\u001b[0mconsolidate\u001b[0m\u001b[1;33m(\u001b[0m\u001b[1;33m)\u001b[0m\u001b[1;33m\u001b[0m\u001b[1;33m\u001b[0m\u001b[0m\n\u001b[0;32m   5213\u001b[0m \u001b[1;33m\u001b[0m\u001b[0m\n\u001b[1;32m-> 5214\u001b[1;33m         \u001b[0mself\u001b[0m\u001b[1;33m.\u001b[0m\u001b[0m_protect_consolidate\u001b[0m\u001b[1;33m(\u001b[0m\u001b[0mf\u001b[0m\u001b[1;33m)\u001b[0m\u001b[1;33m\u001b[0m\u001b[1;33m\u001b[0m\u001b[0m\n\u001b[0m\u001b[0;32m   5215\u001b[0m \u001b[1;33m\u001b[0m\u001b[0m\n\u001b[0;32m   5216\u001b[0m     \u001b[1;32mdef\u001b[0m \u001b[0m_consolidate\u001b[0m\u001b[1;33m(\u001b[0m\u001b[0mself\u001b[0m\u001b[1;33m,\u001b[0m \u001b[0minplace\u001b[0m\u001b[1;33m:\u001b[0m \u001b[0mbool_t\u001b[0m \u001b[1;33m=\u001b[0m \u001b[1;32mFalse\u001b[0m\u001b[1;33m)\u001b[0m\u001b[1;33m:\u001b[0m\u001b[1;33m\u001b[0m\u001b[1;33m\u001b[0m\u001b[0m\n",
      "\u001b[1;32m~\\anaconda3\\Lib\\site-packages\\pandas\\core\\generic.py\u001b[0m in \u001b[0;36m_protect_consolidate\u001b[1;34m(self, f)\u001b[0m\n\u001b[0;32m   5201\u001b[0m         \"\"\"\n\u001b[0;32m   5202\u001b[0m         \u001b[0mblocks_before\u001b[0m \u001b[1;33m=\u001b[0m \u001b[0mlen\u001b[0m\u001b[1;33m(\u001b[0m\u001b[0mself\u001b[0m\u001b[1;33m.\u001b[0m\u001b[0m_mgr\u001b[0m\u001b[1;33m.\u001b[0m\u001b[0mblocks\u001b[0m\u001b[1;33m)\u001b[0m\u001b[1;33m\u001b[0m\u001b[1;33m\u001b[0m\u001b[0m\n\u001b[1;32m-> 5203\u001b[1;33m         \u001b[0mresult\u001b[0m \u001b[1;33m=\u001b[0m \u001b[0mf\u001b[0m\u001b[1;33m(\u001b[0m\u001b[1;33m)\u001b[0m\u001b[1;33m\u001b[0m\u001b[1;33m\u001b[0m\u001b[0m\n\u001b[0m\u001b[0;32m   5204\u001b[0m         \u001b[1;32mif\u001b[0m \u001b[0mlen\u001b[0m\u001b[1;33m(\u001b[0m\u001b[0mself\u001b[0m\u001b[1;33m.\u001b[0m\u001b[0m_mgr\u001b[0m\u001b[1;33m.\u001b[0m\u001b[0mblocks\u001b[0m\u001b[1;33m)\u001b[0m \u001b[1;33m!=\u001b[0m \u001b[0mblocks_before\u001b[0m\u001b[1;33m:\u001b[0m\u001b[1;33m\u001b[0m\u001b[1;33m\u001b[0m\u001b[0m\n\u001b[0;32m   5205\u001b[0m             \u001b[0mself\u001b[0m\u001b[1;33m.\u001b[0m\u001b[0m_clear_item_cache\u001b[0m\u001b[1;33m(\u001b[0m\u001b[1;33m)\u001b[0m\u001b[1;33m\u001b[0m\u001b[1;33m\u001b[0m\u001b[0m\n",
      "\u001b[1;32m~\\anaconda3\\Lib\\site-packages\\pandas\\core\\generic.py\u001b[0m in \u001b[0;36mf\u001b[1;34m()\u001b[0m\n\u001b[0;32m   5210\u001b[0m \u001b[1;33m\u001b[0m\u001b[0m\n\u001b[0;32m   5211\u001b[0m         \u001b[1;32mdef\u001b[0m \u001b[0mf\u001b[0m\u001b[1;33m(\u001b[0m\u001b[1;33m)\u001b[0m\u001b[1;33m:\u001b[0m\u001b[1;33m\u001b[0m\u001b[1;33m\u001b[0m\u001b[0m\n\u001b[1;32m-> 5212\u001b[1;33m             \u001b[0mself\u001b[0m\u001b[1;33m.\u001b[0m\u001b[0m_mgr\u001b[0m \u001b[1;33m=\u001b[0m \u001b[0mself\u001b[0m\u001b[1;33m.\u001b[0m\u001b[0m_mgr\u001b[0m\u001b[1;33m.\u001b[0m\u001b[0mconsolidate\u001b[0m\u001b[1;33m(\u001b[0m\u001b[1;33m)\u001b[0m\u001b[1;33m\u001b[0m\u001b[1;33m\u001b[0m\u001b[0m\n\u001b[0m\u001b[0;32m   5213\u001b[0m \u001b[1;33m\u001b[0m\u001b[0m\n\u001b[0;32m   5214\u001b[0m         \u001b[0mself\u001b[0m\u001b[1;33m.\u001b[0m\u001b[0m_protect_consolidate\u001b[0m\u001b[1;33m(\u001b[0m\u001b[0mf\u001b[0m\u001b[1;33m)\u001b[0m\u001b[1;33m\u001b[0m\u001b[1;33m\u001b[0m\u001b[0m\n",
      "\u001b[1;32m~\\anaconda3\\Lib\\site-packages\\pandas\\core\\internals\\managers.py\u001b[0m in \u001b[0;36mconsolidate\u001b[1;34m(self)\u001b[0m\n\u001b[0;32m    972\u001b[0m         \u001b[0mbm\u001b[0m \u001b[1;33m=\u001b[0m \u001b[0mtype\u001b[0m\u001b[1;33m(\u001b[0m\u001b[0mself\u001b[0m\u001b[1;33m)\u001b[0m\u001b[1;33m(\u001b[0m\u001b[0mself\u001b[0m\u001b[1;33m.\u001b[0m\u001b[0mblocks\u001b[0m\u001b[1;33m,\u001b[0m \u001b[0mself\u001b[0m\u001b[1;33m.\u001b[0m\u001b[0maxes\u001b[0m\u001b[1;33m)\u001b[0m\u001b[1;33m\u001b[0m\u001b[1;33m\u001b[0m\u001b[0m\n\u001b[0;32m    973\u001b[0m         \u001b[0mbm\u001b[0m\u001b[1;33m.\u001b[0m\u001b[0m_is_consolidated\u001b[0m \u001b[1;33m=\u001b[0m \u001b[1;32mFalse\u001b[0m\u001b[1;33m\u001b[0m\u001b[1;33m\u001b[0m\u001b[0m\n\u001b[1;32m--> 974\u001b[1;33m         \u001b[0mbm\u001b[0m\u001b[1;33m.\u001b[0m\u001b[0m_consolidate_inplace\u001b[0m\u001b[1;33m(\u001b[0m\u001b[1;33m)\u001b[0m\u001b[1;33m\u001b[0m\u001b[1;33m\u001b[0m\u001b[0m\n\u001b[0m\u001b[0;32m    975\u001b[0m         \u001b[1;32mreturn\u001b[0m \u001b[0mbm\u001b[0m\u001b[1;33m\u001b[0m\u001b[1;33m\u001b[0m\u001b[0m\n\u001b[0;32m    976\u001b[0m \u001b[1;33m\u001b[0m\u001b[0m\n",
      "\u001b[1;32m~\\anaconda3\\Lib\\site-packages\\pandas\\core\\internals\\managers.py\u001b[0m in \u001b[0;36m_consolidate_inplace\u001b[1;34m(self)\u001b[0m\n\u001b[0;32m    977\u001b[0m     \u001b[1;32mdef\u001b[0m \u001b[0m_consolidate_inplace\u001b[0m\u001b[1;33m(\u001b[0m\u001b[0mself\u001b[0m\u001b[1;33m)\u001b[0m \u001b[1;33m->\u001b[0m \u001b[1;32mNone\u001b[0m\u001b[1;33m:\u001b[0m\u001b[1;33m\u001b[0m\u001b[1;33m\u001b[0m\u001b[0m\n\u001b[0;32m    978\u001b[0m         \u001b[1;32mif\u001b[0m \u001b[1;32mnot\u001b[0m \u001b[0mself\u001b[0m\u001b[1;33m.\u001b[0m\u001b[0mis_consolidated\u001b[0m\u001b[1;33m(\u001b[0m\u001b[1;33m)\u001b[0m\u001b[1;33m:\u001b[0m\u001b[1;33m\u001b[0m\u001b[1;33m\u001b[0m\u001b[0m\n\u001b[1;32m--> 979\u001b[1;33m             \u001b[0mself\u001b[0m\u001b[1;33m.\u001b[0m\u001b[0mblocks\u001b[0m \u001b[1;33m=\u001b[0m \u001b[0mtuple\u001b[0m\u001b[1;33m(\u001b[0m\u001b[0m_consolidate\u001b[0m\u001b[1;33m(\u001b[0m\u001b[0mself\u001b[0m\u001b[1;33m.\u001b[0m\u001b[0mblocks\u001b[0m\u001b[1;33m)\u001b[0m\u001b[1;33m)\u001b[0m\u001b[1;33m\u001b[0m\u001b[1;33m\u001b[0m\u001b[0m\n\u001b[0m\u001b[0;32m    980\u001b[0m             \u001b[0mself\u001b[0m\u001b[1;33m.\u001b[0m\u001b[0m_is_consolidated\u001b[0m \u001b[1;33m=\u001b[0m \u001b[1;32mTrue\u001b[0m\u001b[1;33m\u001b[0m\u001b[1;33m\u001b[0m\u001b[0m\n\u001b[0;32m    981\u001b[0m             \u001b[0mself\u001b[0m\u001b[1;33m.\u001b[0m\u001b[0m_known_consolidated\u001b[0m \u001b[1;33m=\u001b[0m \u001b[1;32mTrue\u001b[0m\u001b[1;33m\u001b[0m\u001b[1;33m\u001b[0m\u001b[0m\n",
      "\u001b[1;32m~\\anaconda3\\Lib\\site-packages\\pandas\\core\\internals\\managers.py\u001b[0m in \u001b[0;36m_consolidate\u001b[1;34m(blocks)\u001b[0m\n\u001b[0;32m   1897\u001b[0m     \u001b[0mnew_blocks\u001b[0m \u001b[1;33m=\u001b[0m \u001b[1;33m[\u001b[0m\u001b[1;33m]\u001b[0m\u001b[1;33m\u001b[0m\u001b[1;33m\u001b[0m\u001b[0m\n\u001b[0;32m   1898\u001b[0m     \u001b[1;32mfor\u001b[0m \u001b[1;33m(\u001b[0m\u001b[0m_can_consolidate\u001b[0m\u001b[1;33m,\u001b[0m \u001b[0mdtype\u001b[0m\u001b[1;33m)\u001b[0m\u001b[1;33m,\u001b[0m \u001b[0mgroup_blocks\u001b[0m \u001b[1;32min\u001b[0m \u001b[0mgrouper\u001b[0m\u001b[1;33m:\u001b[0m\u001b[1;33m\u001b[0m\u001b[1;33m\u001b[0m\u001b[0m\n\u001b[1;32m-> 1899\u001b[1;33m         merged_blocks = _merge_blocks(\n\u001b[0m\u001b[0;32m   1900\u001b[0m             \u001b[0mlist\u001b[0m\u001b[1;33m(\u001b[0m\u001b[0mgroup_blocks\u001b[0m\u001b[1;33m)\u001b[0m\u001b[1;33m,\u001b[0m \u001b[0mdtype\u001b[0m\u001b[1;33m=\u001b[0m\u001b[0mdtype\u001b[0m\u001b[1;33m,\u001b[0m \u001b[0mcan_consolidate\u001b[0m\u001b[1;33m=\u001b[0m\u001b[0m_can_consolidate\u001b[0m\u001b[1;33m\u001b[0m\u001b[1;33m\u001b[0m\u001b[0m\n\u001b[0;32m   1901\u001b[0m         )\n",
      "\u001b[1;32m~\\anaconda3\\Lib\\site-packages\\pandas\\core\\internals\\managers.py\u001b[0m in \u001b[0;36m_merge_blocks\u001b[1;34m(blocks, dtype, can_consolidate)\u001b[0m\n\u001b[0;32m   1920\u001b[0m         \u001b[1;31m# combination of those slices is a slice, too.\u001b[0m\u001b[1;33m\u001b[0m\u001b[1;33m\u001b[0m\u001b[1;33m\u001b[0m\u001b[0m\n\u001b[0;32m   1921\u001b[0m         \u001b[0mnew_mgr_locs\u001b[0m \u001b[1;33m=\u001b[0m \u001b[0mnp\u001b[0m\u001b[1;33m.\u001b[0m\u001b[0mconcatenate\u001b[0m\u001b[1;33m(\u001b[0m\u001b[1;33m[\u001b[0m\u001b[0mb\u001b[0m\u001b[1;33m.\u001b[0m\u001b[0mmgr_locs\u001b[0m\u001b[1;33m.\u001b[0m\u001b[0mas_array\u001b[0m \u001b[1;32mfor\u001b[0m \u001b[0mb\u001b[0m \u001b[1;32min\u001b[0m \u001b[0mblocks\u001b[0m\u001b[1;33m]\u001b[0m\u001b[1;33m)\u001b[0m\u001b[1;33m\u001b[0m\u001b[1;33m\u001b[0m\u001b[0m\n\u001b[1;32m-> 1922\u001b[1;33m         \u001b[0mnew_values\u001b[0m \u001b[1;33m=\u001b[0m \u001b[0mnp\u001b[0m\u001b[1;33m.\u001b[0m\u001b[0mvstack\u001b[0m\u001b[1;33m(\u001b[0m\u001b[1;33m[\u001b[0m\u001b[0mb\u001b[0m\u001b[1;33m.\u001b[0m\u001b[0mvalues\u001b[0m \u001b[1;32mfor\u001b[0m \u001b[0mb\u001b[0m \u001b[1;32min\u001b[0m \u001b[0mblocks\u001b[0m\u001b[1;33m]\u001b[0m\u001b[1;33m)\u001b[0m\u001b[1;33m\u001b[0m\u001b[1;33m\u001b[0m\u001b[0m\n\u001b[0m\u001b[0;32m   1923\u001b[0m \u001b[1;33m\u001b[0m\u001b[0m\n\u001b[0;32m   1924\u001b[0m         \u001b[0margsort\u001b[0m \u001b[1;33m=\u001b[0m \u001b[0mnp\u001b[0m\u001b[1;33m.\u001b[0m\u001b[0margsort\u001b[0m\u001b[1;33m(\u001b[0m\u001b[0mnew_mgr_locs\u001b[0m\u001b[1;33m)\u001b[0m\u001b[1;33m\u001b[0m\u001b[1;33m\u001b[0m\u001b[0m\n",
      "\u001b[1;32m<__array_function__ internals>\u001b[0m in \u001b[0;36mvstack\u001b[1;34m(*args, **kwargs)\u001b[0m\n",
      "\u001b[1;32m~\\anaconda3\\Lib\\site-packages\\numpy\\core\\shape_base.py\u001b[0m in \u001b[0;36mvstack\u001b[1;34m(tup)\u001b[0m\n\u001b[0;32m    281\u001b[0m     \u001b[1;32mif\u001b[0m \u001b[1;32mnot\u001b[0m \u001b[0misinstance\u001b[0m\u001b[1;33m(\u001b[0m\u001b[0marrs\u001b[0m\u001b[1;33m,\u001b[0m \u001b[0mlist\u001b[0m\u001b[1;33m)\u001b[0m\u001b[1;33m:\u001b[0m\u001b[1;33m\u001b[0m\u001b[1;33m\u001b[0m\u001b[0m\n\u001b[0;32m    282\u001b[0m         \u001b[0marrs\u001b[0m \u001b[1;33m=\u001b[0m \u001b[1;33m[\u001b[0m\u001b[0marrs\u001b[0m\u001b[1;33m]\u001b[0m\u001b[1;33m\u001b[0m\u001b[1;33m\u001b[0m\u001b[0m\n\u001b[1;32m--> 283\u001b[1;33m     \u001b[1;32mreturn\u001b[0m \u001b[0m_nx\u001b[0m\u001b[1;33m.\u001b[0m\u001b[0mconcatenate\u001b[0m\u001b[1;33m(\u001b[0m\u001b[0marrs\u001b[0m\u001b[1;33m,\u001b[0m \u001b[1;36m0\u001b[0m\u001b[1;33m)\u001b[0m\u001b[1;33m\u001b[0m\u001b[1;33m\u001b[0m\u001b[0m\n\u001b[0m\u001b[0;32m    284\u001b[0m \u001b[1;33m\u001b[0m\u001b[0m\n\u001b[0;32m    285\u001b[0m \u001b[1;33m\u001b[0m\u001b[0m\n",
      "\u001b[1;32m<__array_function__ internals>\u001b[0m in \u001b[0;36mconcatenate\u001b[1;34m(*args, **kwargs)\u001b[0m\n",
      "\u001b[1;31mKeyboardInterrupt\u001b[0m: "
     ]
    }
   ],
   "source": [
    "ns = np.linspace(0,1,101)\n",
    "ps = np.linspace(0,1,101)\n",
    "coef = []\n",
    "\n",
    "for n in ns:\n",
    "    for p in ps:\n",
    "        res = matrix_to_coef(n,p)\n",
    "        coef.append(res)\n",
    "        \n",
    "df = pd.DataFrame(coef).rename(columns={0:'n',1:'p',2:'TP',3:'FP',4:'product',5:'adj_R2'})\n",
    "df.to_csv('coef_all.csv')"
   ]
  },
  {
   "cell_type": "code",
   "execution_count": null,
   "metadata": {},
   "outputs": [],
   "source": []
  }
 ],
 "metadata": {
  "kernelspec": {
   "display_name": "Python 3",
   "language": "python",
   "name": "python3"
  },
  "language_info": {
   "codemirror_mode": {
    "name": "ipython",
    "version": 3
   },
   "file_extension": ".py",
   "mimetype": "text/x-python",
   "name": "python",
   "nbconvert_exporter": "python",
   "pygments_lexer": "ipython3",
   "version": "3.8.5"
  }
 },
 "nbformat": 4,
 "nbformat_minor": 4
}
